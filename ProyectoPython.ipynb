{
 "cells": [
  {
   "cell_type": "markdown",
   "id": "09291c4d-2436-43ae-8d66-48477fafe6cf",
   "metadata": {},
   "source": [
    "# Proyecto: Análisis de datos con Python. Equipo 11\n",
    "#### Integrantes: \n",
    "- ##### Wendy Areli Ramírez Burgos\n",
    "- ##### Gustavo Corona Ojeda\n",
    "- ##### Carlos Fernando Vásquez Guerra\n",
    "\n",
    "**Planteamiento del problema.** \n",
    "\n",
    "La ciencia de datos se presenta como una herramienta valuable para el desarrollo de las empresas debido a la tendencia de toma de decisiones guiada por datos, por lo que ésta profesión se perfila como una de gran importancia para el crecimiento de las compañías y de la ciencia en general. \n",
    "\n",
    "Actualmente se ha presentado un auge  para el aprendizaje y ejercicio de las herramientas provenientes de la programación y específicamente de la ciencia de datos, pues existe la creencia de que podría representar la oportunidad de una mejora en las expectativas de sueldos y por ende, calidad de vida. \n",
    "\n",
    "Al indagar  someramente , ésta aseveración parece ser cierta, sin embargo ¿Qué tan factible es desarrollarse en una carrera en ciencia de datos y cuales son los requerimientos específicos para tener mejores oportunidades? \n",
    "Por otro lado, al  ser un campo interdisciplinario que requiere de múltiples habilidades y conocimientos, no existe un \"camino\" claro que permita comprender las características específicas que debe tener un científico de datos para tener éxito dentro de ésta área laboral. \n",
    "\n",
    "**Estado del arte.** \n",
    "\n",
    "Llamado por la publicación del Harvard Business Review del  2010 como \"El empleo más sexy del siglo XXI\" el de  Ciencia de datos se ha posicionado como uno de los más buscados (por empleadores y empleados)  en la última década.  Ya glassdor en el 2016 lo posicionaba como el mejor empleo en los Estados Unidos en 2016 y 2017 y se vio un incremento de un 15% de empleos en ésta área en 2020. \n",
    "\n",
    "Según Ramírez (2021) el análisis de datos es una de las profesiones emergentes que será de las más importantes en los próximos 4 años, debido a la necesidad de aprovechar la información que generan los más de 40, 000 millones de dispositivos conectados, lo que ha llevado a las empresas a digitalizar sus procesos para seguir siendo competitivas y, por ende, a buscar perfiles capaces de traducir ésos datos en información de valor para su toma de decisiones, por otro lado, se prevee además que la demanda de profesionales relacionados a las áreas STEM (Science - Technology - Engineering - Mathematics), se incremente en un 12.5% para 2024, según las cifras de la oficina de Estadísticas Laborales de Estados Unidos. \n",
    "\n",
    "A pesar de ésta tendencia, se ha encontrado que alrededor del 9% de vacantes disponibles quedan sin cubrir por falta de perfiles especializados, lo que contribuye a que sea una de las profesiones mejor pagadas (Ramírez, 2021). A éste respecto, un estudio realizado por Gouviera (2021) cuyo objetivo era revalar cuáles eran los salarios de un científico de datos en países de habla hispana, encontró que el sueldo promedio de un científico de datos en México es de 29 mil pesos mexicanos al mes e iniciando un promedio de 20 mil al mes, en Monterrey de 16 a 34 mil pesos mexicanos. \n",
    "\n",
    "De acuerdo al popular sitio especializado en la intustria STEM, Glassdoor, el puesto como cientítico de datos ocupa el tercer lugar  en América con un sueldo promedio de 120,000 dólares anuales y 1071 ofertas laborales para éste año, 2022; por otro lado, de acuerdo a LinkedIn , el de análisis de datos, es una de las 15 profesiones emergentes más importantes del futuro y se ha convertido en una de las profesiones mejor pagadas debido a la falta de personas que puedan cubrir los requerimientos de éstos puestos (Ramírez, 2021). \n",
    "\n",
    "En un estudio realizado por Solís (2021) se concluye que el país con más alta demanda de Científicos de datos, es Estados unidos, con 86,839 vacantes de empleo, seguido de China que cuenta con 42,216, India con 19,578 y Alemania, con 8,581; con respecto a Latinoamérica, se encontró que los países con  con más demanda de Científicos de datos  son Brasil con 3,558 posiciones, apenas un 4% respecto a la demanda de Estados Unidos, seguido de México con 1,465, Argentina con 751, Colombia con 531, Chile con 329 y Perú, con 117. Podemos concluir, por tanto, que ésta tendencia respecto a la demanda y salario atractivo de científicos de datos se presenta también en Latinoamérica, pues los salarios de científico de datos son elevados respecto al promedio (Ramírez, 2018). \n",
    "\n",
    "Respecto al  perfil específico de un científico de datos, se ha encontrado que cada compañía tiene su propia definición de \"Científico de datos\" siendo diversos los requerimientos respecto al manejo de herramientas, habilidades y antecedentes académicos requeridos para desarrollarse en ésta área profesional, pues el rol del científico de datos aún se encuentra en evolución y no se adhiere a un solo conjunto de habilidades (Shaik, 2020). A éste respecto, el estudio de Ramírez (2018), señala que, para latinoamérica, el uso de términos relacionados como Machine Learning, Análisis de datos e inteligencia artificial, es útil a la hora de indagar respecto al mercado laboral debido a la falta de estandarización y sistematización concerniente al campo de acción y áreas laborales del científico de datos. \n",
    "\n",
    "A pesar de ésto, de acuerdo a Solís (2021), los perfiles de científico de datos provienen principalmente del mundo de la informática y las telecomunicaciones, con características diversas dependiendo del campo de acción, siendo el dominio de los lenguajes Python y R los más comunmente solicitados, además del manejo de herramientas de visualización. En un estudio realizado por Shaik (2020) en el que analizó más de 1,000 trabajos recientes de científicos de datos haciendo uso de herramientas de Web Scraping para el mercado laboral de la India, encontró que si bien los requerimientos son diversos, el manejo de herramientas de Machine learning, Estadística, análisis y limpieza de datos  además de técnicas de aprendizaje profundo y conocimiento de la nube como AWS, Azure o GCP, y herramientas de visualización, como Tableau y Power Bi, se presentaban como los factores más importantes a la hora de conseguir un empleo como científico de datos. Por otro lado, específicamente respecto al mercado latinoamericano,  Ramírez  (2018) señala que el manejo de lenguajes como Python y R se mantienen como los más populares y los estudios de posgrado son más comunes que en el resto de profesionales relacionados a la computación, siendo el más común el título de maestría. \n",
    "\n",
    "Con relación a los factores que contribuyen a la obtención de un mejor salario, Nagpakur (2020)  señala que lo que presenta mayor correlación con un pago más alto son los años de experiencia, más que los grados académicos en sí,(aunque cabe resaltar que éstos se relacionan a los años de experiencia pues implican el tiempo invertido en el desarrollo en el campo de conocimiento específico) lo que se refleja en el aumento salarial conforme aumentan los años de experiencia, por tanto, las personas que no tienen títulos universitarios tienden a tener un mejor salario en términos de pago promedio ya que tienden a acumular más experiencia laboral. Respecto a los puestos con mejor paga, los arquitectos de datos y aquellos que se encuentran en los puestos gerenciales son los que perciben sueldos más altos. \n",
    "\n",
    "Por último, cabe resaltar que según éste estudio de 2020,  los países con mejores oportunidades para desarrollarse en éste ámbito son Estados Unidos, Nueva Zelanda, Australia, Alemania  y Canadá; respecto a latinoamérica, si bien México no es el país con más desarrollo (Siendo Brasil quien encabeza la lista) es el país que presenta las mayores ambiciones en temas de IA, siendo el primer país de Latinoamérica que formula una estrategia nacional de IA en el 2018 con objetivos clave para reducir la corrupción y la delincuencia, así como mejorar la salud pública y finalmente impulsar la inclusión financiera (Solís, 2021), sin embargo, de acuerdo a Ramírez (2018), Chile se posiciona como el país más interesante para trabajos en ciencia de datos, presentando el mayor número de vacantes disponibles en relación a su población y uno de los salarios más apropiados en relación al costo de vida del país. \n",
    "\n",
    "A pesar de que existen diversas propuestas muy ricas en el anális de datos que se han hecho anteriormente, no se ha encontrado alguna propuesta que se centre en México ni en el análisis de las características específicas de éstos puestos para nuestro mercado laboral, por lo que nuestro objetivo se centrará en explorar las oportunidades de desarrollo para nuestro país. \n",
    "\n",
    "\n",
    "**Objetivo**\n",
    "\n",
    "El objetivo de ésta investigación será el de indagar a través de las herramientas de análisis de datos con Python cuáles son los requerimientos específicos, habilidades, nivel de experiencia, así como el nivel academico necesario para desarrollarse exitosamente en ciencia de datos y comprender cómo ésto se relaciona con las expectativas salariales para ayudar a la toma de decisiones respecto a objetivos profesionales en el camino STEM.\n",
    "\n",
    "**Preguntas**. \n",
    "\n",
    "- ¿Cuál es el salario promedio de un científico de datos?\n",
    "- ¿Cuántas habilidades en términos de software son requeridas en el ambito laboral?\n",
    "- ¿Cuál es el área (industria) que paga mejor o que ofrece mejores ofertas?\n",
    "- ¿Cuáles son los mejores puestos laborales de acuerdo al salario?\n",
    "- ¿Cuál es el promedio salarial de los distintos puestos laborales?\n",
    "- ¿Qué sectores tienen mayor interés en un científico de datos?\n",
    "- ¿Qué país, en promedio, ofrece mejores ofertas salariales?\n",
    "\n",
    "**Metodología:**\n",
    "\n",
    "Mediante técnicas de Web Scrapping, se extrajo la información de uno de los portales más populares de ofertas de empleo en tecnología: Glassdoor. Estos datos representan una muestra de las ofertas laborales publicadas en la página Glassdoor entre el 12 y 15 de septiembre del 2022 para los países México, Estados Unidos y Canadá (estos dos últimos por ser los mejores países de nuestro continente para el ejercicio de la ciencia de datos y los cuales ofrecen mejores percepciones salariales). Para esto, se tomó como base el código proporcionado en este [enlace](https://github.com/Atharva-Phatak/Analysing-Glassdoor-Jobs/blob/master/Scrape_data_Final.ipynb) y se realizaron diversas modificaciones para obtener la muestra de la información de las ofertas laborales.\n",
    "\n",
    "\n",
    "**Operacionalización de variables**: \n",
    "\n",
    "+ Científico de datos: Basandonos en la metodología  de Ramírez, (2018), y debido a que no existe un concenso respecto al puesto, usaremos términos relacionados como Machine Learning, análisis de datos e inteligencia artificial, etc., para la obtención en glassdoor. \n",
    "\n",
    "+ Nivel de experiencia clasificado a partir de Jr, Semisenior, Senior y Trainee\n",
    "\n",
    "+ Antecedentes académicos: \n",
    "    - Por nivel: Educación básica, licenciatura, posgrado. \n",
    "\n",
    "+ Habilidades:\n",
    "    *   Lenguajes de programación: Python, R, SQL, MongoDB, MariaDB, Azure, Docker, Kubernetes, Java, Julia, Scala, C, C\\+\\+, JavaScript, Swift, Go, MATLAB, SAS, SPSS, Bash, Visual Basic, PHP, HTML, Ruby, Git, Excel, Powepoint, Word, Tablue, MicroStrategy, PowerBI, Apache Spark y Hadoop\n",
    "\n",
    "\n",
    "+ Áreas para el ejercicio de ciencia de datos (giro de la empresa)\n",
    "    -   Industria\n",
    "    -   Investigación\n",
    "    -   Educación"
   ]
  },
  {
   "cell_type": "markdown",
   "id": "1e919fcb-0d55-4104-8bc5-2fa59fc58c25",
   "metadata": {},
   "source": [
    "\n",
    "## Limpieza de la información\n",
    "\n",
    "Al realizar el web scrapping, se obtuvieron distintos conjuntos de datos para cada término (palabra clave para el puesto: \"Cientifico de datos\", etc) y \n",
    "estos se pueden consultar en está [página](https://github.com/CarlosFernandoVG/ProyectoPythonBEDU/blob/main/WebScrappingGlassdoor.ipynb) y en la siguiente celda los obtenemos de manera rápida para, posteriormente, unir cada conjunto de datos en uno solo."
   ]
  },
  {
   "cell_type": "code",
   "execution_count": 1,
   "id": "df8577a1-1859-401c-902d-580011d30a3b",
   "metadata": {},
   "outputs": [],
   "source": [
    "import os\n",
    "import pandas as pd\n",
    "import warnings\n",
    "warnings.filterwarnings('ignore')\n",
    "import numpy as np\n",
    "import re\n",
    "\n",
    "# folder path\n",
    "dir_path_EUA = 'Datasets/EUA'\n",
    "dir_path_MX = 'Datasets/Mexico'\n",
    "dir_path_CAN = 'Datasets/Canadá'\n",
    "\n",
    "# Obtenemos las direcciones de nuestros archivos\n",
    "dir_path_EUA = os.listdir(dir_path_EUA)\n",
    "dir_path_MX = os.listdir(dir_path_MX)\n",
    "dir_path_CAN = os.listdir(dir_path_CAN)\n",
    "\n",
    "#Colocamos este paso extra, para evitar problemas con las rutas al ejecutar varias veces el notebook\n",
    "dir_path_EUA = [ruta for ruta in dir_path_EUA if ruta != '.ipynb_checkpoints']\n",
    "dir_path_MX = [ruta for ruta in dir_path_MX if ruta != '.ipynb_checkpoints']\n",
    "dir_path_CAN = [ruta for ruta in dir_path_CAN if ruta != '.ipynb_checkpoints']"
   ]
  },
  {
   "cell_type": "code",
   "execution_count": 2,
   "id": "dc772b4b-8285-4fa5-bba1-058fbe725f41",
   "metadata": {},
   "outputs": [],
   "source": [
    "#Creamos tres data frames con la misma estructura para unir cada conjunto de datos por país\n",
    "\n",
    "data_EUA = pd.DataFrame(columns = ['Job_title' , 'Company' , 'State' , 'City' , 'Min_Salary' ,'Max_Salary' , 'unitText',\n",
    "                                      \"SalaryCurrency\", 'Job_Desc' , 'Industry'  , 'Rating' , 'Date_Posted' , 'Valid_until' , 'Job_Type'])\n",
    "data_MX = pd.DataFrame(columns = ['Job_title' , 'Company' , 'State' , 'City' , 'Min_Salary' ,'Max_Salary' , 'unitText',\n",
    "                                      \"SalaryCurrency\", 'Job_Desc' , 'Industry'  , 'Rating' , 'Date_Posted' , 'Valid_until' , 'Job_Type'])\n",
    "data_CAN = pd.DataFrame(columns = ['Job_title' , 'Company' , 'State' , 'City' , 'Min_Salary' ,'Max_Salary' , 'unitText',\n",
    "                                      \"SalaryCurrency\", 'Job_Desc' , 'Industry'  , 'Rating' , 'Date_Posted' , 'Valid_until' , 'Job_Type'])"
   ]
  },
  {
   "cell_type": "code",
   "execution_count": 3,
   "id": "8881a246-022e-4432-a886-14542edf433c",
   "metadata": {},
   "outputs": [],
   "source": [
    "#Creamos una lista con los diferntes conjuntos de datos por país\n",
    "EUA_csvs = []\n",
    "MX_csvs = []\n",
    "CAN_csvs = []\n",
    "\n",
    "for filename in dir_path_EUA:\n",
    "    df = pd.read_csv(\"Datasets/EUA/\"+filename, index_col=None, header=0)\n",
    "    EUA_csvs.append(df)\n",
    "    \n",
    "for filename in dir_path_MX:\n",
    "    df = pd.read_csv(\"Datasets/Mexico/\"+filename, index_col=None, header=0)\n",
    "    MX_csvs.append(df)\n",
    "    \n",
    "for filename in dir_path_CAN:\n",
    "    df = pd.read_csv(\"Datasets/Canadá/\"+filename, index_col=None, header=0)\n",
    "    CAN_csvs.append(df)\n",
    "\n",
    "#En este paso, ya tenemos los conjutos de datos unidos por país\n",
    "EUA_data = pd.concat(EUA_csvs, axis=0, ignore_index=True)\n",
    "MX_data = pd.concat(MX_csvs, axis=0, ignore_index=True)\n",
    "CAN_data = pd.concat(CAN_csvs, axis=0, ignore_index=True)"
   ]
  },
  {
   "cell_type": "code",
   "execution_count": 4,
   "id": "74601cb1-60c2-428a-b163-c6d26648d55c",
   "metadata": {
    "scrolled": true,
    "tags": []
   },
   "outputs": [],
   "source": [
    "#Quitamos duplicados y reiniciamos índices\n",
    "EUA_data = EUA_data.drop_duplicates()\n",
    "EUA_data.reset_index(inplace=True, drop=True)\n",
    "\n",
    "MX_data = MX_data.drop_duplicates()\n",
    "MX_data.reset_index(inplace=True, drop=True)\n",
    "MX_data.drop('Unnamed: 0', inplace=True, axis=1)\n",
    "\n",
    "CAN_data = CAN_data.drop_duplicates()\n",
    "CAN_data.reset_index(inplace=True, drop=True)\n",
    "\n",
    "#Agregamos una columna que indique el país\n",
    "EUA_data[\"Country\"] = \"EUA\"\n",
    "MX_data[\"Country\"] = \"MX\"\n",
    "CAN_data[\"Country\"] = \"CAN\""
   ]
  },
  {
   "cell_type": "markdown",
   "id": "007eefd3-1ec3-4c25-8bc4-21a217bbcf18",
   "metadata": {},
   "source": [
    "Ya que tenemos todos los datos cargados, los compilamos en un solo data frame"
   ]
  },
  {
   "cell_type": "code",
   "execution_count": 5,
   "id": "31ec6ee0-62c1-477e-a33e-0619bd7d31b1",
   "metadata": {
    "scrolled": true,
    "tags": []
   },
   "outputs": [
    {
     "data": {
      "text/html": [
       "<div>\n",
       "<style scoped>\n",
       "    .dataframe tbody tr th:only-of-type {\n",
       "        vertical-align: middle;\n",
       "    }\n",
       "\n",
       "    .dataframe tbody tr th {\n",
       "        vertical-align: top;\n",
       "    }\n",
       "\n",
       "    .dataframe thead th {\n",
       "        text-align: right;\n",
       "    }\n",
       "</style>\n",
       "<table border=\"1\" class=\"dataframe\">\n",
       "  <thead>\n",
       "    <tr style=\"text-align: right;\">\n",
       "      <th></th>\n",
       "      <th>Job_title</th>\n",
       "      <th>Company</th>\n",
       "      <th>State</th>\n",
       "      <th>City</th>\n",
       "      <th>Min_Salary</th>\n",
       "      <th>Max_Salary</th>\n",
       "      <th>unitText</th>\n",
       "      <th>SalaryCurrency</th>\n",
       "      <th>Job_Desc</th>\n",
       "      <th>Industry</th>\n",
       "      <th>Rating</th>\n",
       "      <th>Date_Posted</th>\n",
       "      <th>Valid_until</th>\n",
       "      <th>Job_Type</th>\n",
       "      <th>Country</th>\n",
       "    </tr>\n",
       "  </thead>\n",
       "  <tbody>\n",
       "    <tr>\n",
       "      <th>0</th>\n",
       "      <td>Data Engineer with Azure Synapse</td>\n",
       "      <td>4urHires INC</td>\n",
       "      <td>NaN</td>\n",
       "      <td>NaN</td>\n",
       "      <td>-1</td>\n",
       "      <td>-1</td>\n",
       "      <td>NaN</td>\n",
       "      <td>USD</td>\n",
       "      <td>Azure EngineerStrong experience in SynapseJob ...</td>\n",
       "      <td>NaN</td>\n",
       "      <td>NaN</td>\n",
       "      <td>2022-09-16T00:00:00</td>\n",
       "      <td>2022-10-16</td>\n",
       "      <td>OTHER</td>\n",
       "      <td>EUA</td>\n",
       "    </tr>\n",
       "    <tr>\n",
       "      <th>1</th>\n",
       "      <td>Data Engineer</td>\n",
       "      <td>MARS Group</td>\n",
       "      <td>NaN</td>\n",
       "      <td>NaN</td>\n",
       "      <td>-1</td>\n",
       "      <td>-1</td>\n",
       "      <td>NaN</td>\n",
       "      <td>USD</td>\n",
       "      <td>Description: Data is a critical driver of this...</td>\n",
       "      <td>NaN</td>\n",
       "      <td>NaN</td>\n",
       "      <td>2022-09-14T00:00:00</td>\n",
       "      <td>2022-10-16</td>\n",
       "      <td>FULL_TIME</td>\n",
       "      <td>EUA</td>\n",
       "    </tr>\n",
       "    <tr>\n",
       "      <th>2</th>\n",
       "      <td>Data Engineer - ENTRY LEVEL</td>\n",
       "      <td>PCS Global Tech</td>\n",
       "      <td>California</td>\n",
       "      <td>Los Angeles</td>\n",
       "      <td>-1</td>\n",
       "      <td>-1</td>\n",
       "      <td>NaN</td>\n",
       "      <td>USD</td>\n",
       "      <td>Responsibilities· Analyze and organize raw dat...</td>\n",
       "      <td>Tecnologías de la información</td>\n",
       "      <td>NaN</td>\n",
       "      <td>2022-09-15T00:00:00</td>\n",
       "      <td>2022-10-16</td>\n",
       "      <td>FULL_TIME</td>\n",
       "      <td>EUA</td>\n",
       "    </tr>\n",
       "    <tr>\n",
       "      <th>3</th>\n",
       "      <td>Sr. Data Engineer</td>\n",
       "      <td>Optiv</td>\n",
       "      <td>Kansas</td>\n",
       "      <td>Leawood</td>\n",
       "      <td>-1</td>\n",
       "      <td>-1</td>\n",
       "      <td>NaN</td>\n",
       "      <td>USD</td>\n",
       "      <td>At Optiv, we’re on a mission to help our clien...</td>\n",
       "      <td>Tecnologías de la información</td>\n",
       "      <td>NaN</td>\n",
       "      <td>2022-09-15T00:00:00</td>\n",
       "      <td>2022-10-16</td>\n",
       "      <td>FULL_TIME</td>\n",
       "      <td>EUA</td>\n",
       "    </tr>\n",
       "    <tr>\n",
       "      <th>4</th>\n",
       "      <td>Entry-Level Azure Data Engineer</td>\n",
       "      <td>Antra, Inc</td>\n",
       "      <td>NaN</td>\n",
       "      <td>NaN</td>\n",
       "      <td>-1</td>\n",
       "      <td>-1</td>\n",
       "      <td>NaN</td>\n",
       "      <td>USD</td>\n",
       "      <td>About usAntra, Inc is a leading IT consultancy...</td>\n",
       "      <td>Tecnologías de la información</td>\n",
       "      <td>NaN</td>\n",
       "      <td>2022-09-13T00:00:00</td>\n",
       "      <td>2022-10-16</td>\n",
       "      <td>FULL_TIME</td>\n",
       "      <td>EUA</td>\n",
       "    </tr>\n",
       "  </tbody>\n",
       "</table>\n",
       "</div>"
      ],
      "text/plain": [
       "                          Job_title          Company       State         City  \\\n",
       "0  Data Engineer with Azure Synapse     4urHires INC         NaN          NaN   \n",
       "1                     Data Engineer       MARS Group         NaN          NaN   \n",
       "2       Data Engineer - ENTRY LEVEL  PCS Global Tech  California  Los Angeles   \n",
       "3                 Sr. Data Engineer            Optiv      Kansas      Leawood   \n",
       "4   Entry-Level Azure Data Engineer       Antra, Inc         NaN          NaN   \n",
       "\n",
       "  Min_Salary Max_Salary unitText SalaryCurrency  \\\n",
       "0         -1         -1      NaN            USD   \n",
       "1         -1         -1      NaN            USD   \n",
       "2         -1         -1      NaN            USD   \n",
       "3         -1         -1      NaN            USD   \n",
       "4         -1         -1      NaN            USD   \n",
       "\n",
       "                                            Job_Desc  \\\n",
       "0  Azure EngineerStrong experience in SynapseJob ...   \n",
       "1  Description: Data is a critical driver of this...   \n",
       "2  Responsibilities· Analyze and organize raw dat...   \n",
       "3  At Optiv, we’re on a mission to help our clien...   \n",
       "4  About usAntra, Inc is a leading IT consultancy...   \n",
       "\n",
       "                        Industry Rating          Date_Posted Valid_until  \\\n",
       "0                            NaN    NaN  2022-09-16T00:00:00  2022-10-16   \n",
       "1                            NaN    NaN  2022-09-14T00:00:00  2022-10-16   \n",
       "2  Tecnologías de la información    NaN  2022-09-15T00:00:00  2022-10-16   \n",
       "3  Tecnologías de la información    NaN  2022-09-15T00:00:00  2022-10-16   \n",
       "4  Tecnologías de la información    NaN  2022-09-13T00:00:00  2022-10-16   \n",
       "\n",
       "    Job_Type Country  \n",
       "0      OTHER     EUA  \n",
       "1  FULL_TIME     EUA  \n",
       "2  FULL_TIME     EUA  \n",
       "3  FULL_TIME     EUA  \n",
       "4  FULL_TIME     EUA  "
      ]
     },
     "execution_count": 5,
     "metadata": {},
     "output_type": "execute_result"
    }
   ],
   "source": [
    "jobs_data = pd.concat([EUA_data, MX_data, CAN_data], axis=0, ignore_index=True)\n",
    "jobs_data.head()"
   ]
  },
  {
   "cell_type": "markdown",
   "id": "0a4ec064-a1b4-49df-bd72-bb9b38ec7d87",
   "metadata": {},
   "source": [
    "Nuestro conjunto de datos, en este momento, contiene 15 variables y 2576 observaciones:"
   ]
  },
  {
   "cell_type": "code",
   "execution_count": 6,
   "id": "cc391eaa-9ede-4f4e-9e53-00f94b3520da",
   "metadata": {},
   "outputs": [
    {
     "data": {
      "text/plain": [
       "(2576, 15)"
      ]
     },
     "execution_count": 6,
     "metadata": {},
     "output_type": "execute_result"
    }
   ],
   "source": [
    "jobs_data.shape"
   ]
  },
  {
   "cell_type": "markdown",
   "id": "d3126099-a6bc-4a10-b413-b92bf8f084ae",
   "metadata": {},
   "source": [
    "Las columnas tienen el siguiente significado:\n",
    "\n",
    "- Job_title: Cargo ofrecido por la compañía\n",
    "- Company: Empresa que ofrece el trabajo\n",
    "- State / City / Country: Descripción de la ubicación para laborar (estado, ciudad y país)\n",
    "- Min_Salary / Max_Salary: Estimación oficial del salario base (rango) que pretende pagar el empleador por este trabajo\n",
    "- SalaryCurrency: Moneda a la cual se pagará el trabajo\n",
    "- unitTex: Moneda en la cual se encuentra la estimación del rango salarial\n",
    "- Job_Desc: Descripcción del trabajo\n",
    "- Industry: Área a la que pertenece la compañia\n",
    "- Rating: Calificación promedio que los empleados dan a la empresa\n",
    "- Date_Posted: Fecha en la que se publico la oferta laboral\n",
    "- Valid_until: Fecha límite para aplicar a la oferta laboral\n",
    "- Job_Type: Tipo de trabajo (remoto, presencial, etc)"
   ]
  },
  {
   "cell_type": "markdown",
   "id": "0d30508e-872f-45e8-a077-258ee6c1db90",
   "metadata": {},
   "source": [
    "Podemos visualizar una descripción de los tipos de datos que se encuentran en el data frame"
   ]
  },
  {
   "cell_type": "code",
   "execution_count": 7,
   "id": "d4813788-db87-46e3-94d0-19769f25b109",
   "metadata": {},
   "outputs": [
    {
     "name": "stdout",
     "output_type": "stream",
     "text": [
      "<class 'pandas.core.frame.DataFrame'>\n",
      "RangeIndex: 2576 entries, 0 to 2575\n",
      "Data columns (total 15 columns):\n",
      " #   Column          Non-Null Count  Dtype \n",
      "---  ------          --------------  ----- \n",
      " 0   Job_title       2576 non-null   object\n",
      " 1   Company         2570 non-null   object\n",
      " 2   State           2029 non-null   object\n",
      " 3   City            2029 non-null   object\n",
      " 4   Min_Salary      2576 non-null   object\n",
      " 5   Max_Salary      2576 non-null   object\n",
      " 6   unitText        446 non-null    object\n",
      " 7   SalaryCurrency  2576 non-null   object\n",
      " 8   Job_Desc        2569 non-null   object\n",
      " 9   Industry        1785 non-null   object\n",
      " 10  Rating          0 non-null      object\n",
      " 11  Date_Posted     2576 non-null   object\n",
      " 12  Valid_until     2576 non-null   object\n",
      " 13  Job_Type        2576 non-null   object\n",
      " 14  Country         2576 non-null   object\n",
      "dtypes: object(15)\n",
      "memory usage: 302.0+ KB\n"
     ]
    }
   ],
   "source": [
    "jobs_data.info()"
   ]
  },
  {
   "cell_type": "markdown",
   "id": "3e3ec9d1-ffc1-454f-a751-b480cc696448",
   "metadata": {},
   "source": [
    "Podemos notar que todos los tipos de datos que contiene nuestro data set es de tipo `object`. Más adelante se modificarán estos tipos de datos por otros más adecuados"
   ]
  },
  {
   "cell_type": "markdown",
   "id": "4a75bb5e-cf0d-4239-bceb-9fd64732fa17",
   "metadata": {},
   "source": [
    "Lo anterior nos ayuda a visualizar cuantos valores perdidos se tienen por columna, por lo que procedemos a visualizar la proporción de valores perdidos para determinar si algunas columnas pueden ser eliminadas"
   ]
  },
  {
   "cell_type": "code",
   "execution_count": 8,
   "id": "c8d4da8e-ec6b-46fa-9cc6-b07e1d2a1b2e",
   "metadata": {},
   "outputs": [
    {
     "data": {
      "text/plain": [
       "Job_title         0.000000\n",
       "Company           0.002329\n",
       "State             0.212345\n",
       "City              0.212345\n",
       "Min_Salary        0.000000\n",
       "Max_Salary        0.000000\n",
       "unitText          0.826863\n",
       "SalaryCurrency    0.000000\n",
       "Job_Desc          0.002717\n",
       "Industry          0.307065\n",
       "Rating            1.000000\n",
       "Date_Posted       0.000000\n",
       "Valid_until       0.000000\n",
       "Job_Type          0.000000\n",
       "Country           0.000000\n",
       "dtype: float64"
      ]
     },
     "execution_count": 8,
     "metadata": {},
     "output_type": "execute_result"
    }
   ],
   "source": [
    "jobs_data.isna().sum()/len(jobs_data)"
   ]
  },
  {
   "cell_type": "markdown",
   "id": "44e5216e-793e-4afd-88b6-a252a0cb93b9",
   "metadata": {},
   "source": [
    "`unitTex` contiene un 83% de valores perdidos; eliminaremos esta columna ya que esta indica la moneda de los salarios estimados por glassdoor y en la columna `SalaryCurrency`tenemos la misma información y sin valores perdidos"
   ]
  },
  {
   "cell_type": "code",
   "execution_count": 9,
   "id": "3cd501ac-766c-48c5-8f4d-dd498fe36ee1",
   "metadata": {},
   "outputs": [
    {
     "name": "stdout",
     "output_type": "stream",
     "text": [
      "Valores perdidos de unitText: 2130\n",
      "Valores perdidos de SalaryCurrency: 0\n"
     ]
    }
   ],
   "source": [
    "print(f'Valores perdidos de unitText: {jobs_data[\"unitText\"].isna().sum()}')\n",
    "print(f'Valores perdidos de SalaryCurrency: {jobs_data[\"SalaryCurrency\"].isna().sum()}')"
   ]
  },
  {
   "cell_type": "markdown",
   "id": "161a4917-2053-46a8-90a9-946ed596d516",
   "metadata": {},
   "source": [
    "La columna `Rating` solo contiene información perdida, así que será eliminada"
   ]
  },
  {
   "cell_type": "code",
   "execution_count": 10,
   "id": "a84bcebe-4b6c-4160-be2a-54317c8701c1",
   "metadata": {},
   "outputs": [
    {
     "data": {
      "text/html": [
       "<div>\n",
       "<style scoped>\n",
       "    .dataframe tbody tr th:only-of-type {\n",
       "        vertical-align: middle;\n",
       "    }\n",
       "\n",
       "    .dataframe tbody tr th {\n",
       "        vertical-align: top;\n",
       "    }\n",
       "\n",
       "    .dataframe thead th {\n",
       "        text-align: right;\n",
       "    }\n",
       "</style>\n",
       "<table border=\"1\" class=\"dataframe\">\n",
       "  <thead>\n",
       "    <tr style=\"text-align: right;\">\n",
       "      <th></th>\n",
       "      <th>Job_title</th>\n",
       "      <th>Company</th>\n",
       "      <th>State</th>\n",
       "      <th>City</th>\n",
       "      <th>Min_Salary</th>\n",
       "      <th>Max_Salary</th>\n",
       "      <th>SalaryCurrency</th>\n",
       "      <th>Job_Desc</th>\n",
       "      <th>Industry</th>\n",
       "      <th>Date_Posted</th>\n",
       "      <th>Valid_until</th>\n",
       "      <th>Job_Type</th>\n",
       "      <th>Country</th>\n",
       "    </tr>\n",
       "  </thead>\n",
       "  <tbody>\n",
       "    <tr>\n",
       "      <th>0</th>\n",
       "      <td>Data Engineer with Azure Synapse</td>\n",
       "      <td>4urHires INC</td>\n",
       "      <td>NaN</td>\n",
       "      <td>NaN</td>\n",
       "      <td>-1</td>\n",
       "      <td>-1</td>\n",
       "      <td>USD</td>\n",
       "      <td>Azure EngineerStrong experience in SynapseJob ...</td>\n",
       "      <td>NaN</td>\n",
       "      <td>2022-09-16T00:00:00</td>\n",
       "      <td>2022-10-16</td>\n",
       "      <td>OTHER</td>\n",
       "      <td>EUA</td>\n",
       "    </tr>\n",
       "    <tr>\n",
       "      <th>1</th>\n",
       "      <td>Data Engineer</td>\n",
       "      <td>MARS Group</td>\n",
       "      <td>NaN</td>\n",
       "      <td>NaN</td>\n",
       "      <td>-1</td>\n",
       "      <td>-1</td>\n",
       "      <td>USD</td>\n",
       "      <td>Description: Data is a critical driver of this...</td>\n",
       "      <td>NaN</td>\n",
       "      <td>2022-09-14T00:00:00</td>\n",
       "      <td>2022-10-16</td>\n",
       "      <td>FULL_TIME</td>\n",
       "      <td>EUA</td>\n",
       "    </tr>\n",
       "    <tr>\n",
       "      <th>2</th>\n",
       "      <td>Data Engineer - ENTRY LEVEL</td>\n",
       "      <td>PCS Global Tech</td>\n",
       "      <td>California</td>\n",
       "      <td>Los Angeles</td>\n",
       "      <td>-1</td>\n",
       "      <td>-1</td>\n",
       "      <td>USD</td>\n",
       "      <td>Responsibilities· Analyze and organize raw dat...</td>\n",
       "      <td>Tecnologías de la información</td>\n",
       "      <td>2022-09-15T00:00:00</td>\n",
       "      <td>2022-10-16</td>\n",
       "      <td>FULL_TIME</td>\n",
       "      <td>EUA</td>\n",
       "    </tr>\n",
       "    <tr>\n",
       "      <th>3</th>\n",
       "      <td>Sr. Data Engineer</td>\n",
       "      <td>Optiv</td>\n",
       "      <td>Kansas</td>\n",
       "      <td>Leawood</td>\n",
       "      <td>-1</td>\n",
       "      <td>-1</td>\n",
       "      <td>USD</td>\n",
       "      <td>At Optiv, we’re on a mission to help our clien...</td>\n",
       "      <td>Tecnologías de la información</td>\n",
       "      <td>2022-09-15T00:00:00</td>\n",
       "      <td>2022-10-16</td>\n",
       "      <td>FULL_TIME</td>\n",
       "      <td>EUA</td>\n",
       "    </tr>\n",
       "    <tr>\n",
       "      <th>4</th>\n",
       "      <td>Entry-Level Azure Data Engineer</td>\n",
       "      <td>Antra, Inc</td>\n",
       "      <td>NaN</td>\n",
       "      <td>NaN</td>\n",
       "      <td>-1</td>\n",
       "      <td>-1</td>\n",
       "      <td>USD</td>\n",
       "      <td>About usAntra, Inc is a leading IT consultancy...</td>\n",
       "      <td>Tecnologías de la información</td>\n",
       "      <td>2022-09-13T00:00:00</td>\n",
       "      <td>2022-10-16</td>\n",
       "      <td>FULL_TIME</td>\n",
       "      <td>EUA</td>\n",
       "    </tr>\n",
       "  </tbody>\n",
       "</table>\n",
       "</div>"
      ],
      "text/plain": [
       "                          Job_title          Company       State         City  \\\n",
       "0  Data Engineer with Azure Synapse     4urHires INC         NaN          NaN   \n",
       "1                     Data Engineer       MARS Group         NaN          NaN   \n",
       "2       Data Engineer - ENTRY LEVEL  PCS Global Tech  California  Los Angeles   \n",
       "3                 Sr. Data Engineer            Optiv      Kansas      Leawood   \n",
       "4   Entry-Level Azure Data Engineer       Antra, Inc         NaN          NaN   \n",
       "\n",
       "  Min_Salary Max_Salary SalaryCurrency  \\\n",
       "0         -1         -1            USD   \n",
       "1         -1         -1            USD   \n",
       "2         -1         -1            USD   \n",
       "3         -1         -1            USD   \n",
       "4         -1         -1            USD   \n",
       "\n",
       "                                            Job_Desc  \\\n",
       "0  Azure EngineerStrong experience in SynapseJob ...   \n",
       "1  Description: Data is a critical driver of this...   \n",
       "2  Responsibilities· Analyze and organize raw dat...   \n",
       "3  At Optiv, we’re on a mission to help our clien...   \n",
       "4  About usAntra, Inc is a leading IT consultancy...   \n",
       "\n",
       "                        Industry          Date_Posted Valid_until   Job_Type  \\\n",
       "0                            NaN  2022-09-16T00:00:00  2022-10-16      OTHER   \n",
       "1                            NaN  2022-09-14T00:00:00  2022-10-16  FULL_TIME   \n",
       "2  Tecnologías de la información  2022-09-15T00:00:00  2022-10-16  FULL_TIME   \n",
       "3  Tecnologías de la información  2022-09-15T00:00:00  2022-10-16  FULL_TIME   \n",
       "4  Tecnologías de la información  2022-09-13T00:00:00  2022-10-16  FULL_TIME   \n",
       "\n",
       "  Country  \n",
       "0     EUA  \n",
       "1     EUA  \n",
       "2     EUA  \n",
       "3     EUA  \n",
       "4     EUA  "
      ]
     },
     "execution_count": 10,
     "metadata": {},
     "output_type": "execute_result"
    }
   ],
   "source": [
    "jobs_data.drop([\"unitText\", \"Rating\"], inplace=True, axis = 1)\n",
    "jobs_data.head()"
   ]
  },
  {
   "cell_type": "markdown",
   "id": "1968cc0b-4fd4-4a21-8baa-50a667c9375d",
   "metadata": {},
   "source": [
    "Existen muy pocas observaciones sin descripcción, por lo que procederemos a eliminarlas"
   ]
  },
  {
   "cell_type": "code",
   "execution_count": 11,
   "id": "e123e9a9-0565-4bd1-9976-3750507be33f",
   "metadata": {},
   "outputs": [],
   "source": [
    "jobs_data.dropna(subset = [\"Job_Desc\"], inplace=True)"
   ]
  },
  {
   "cell_type": "code",
   "execution_count": 12,
   "id": "15990b70-94e4-47b2-8b22-2fed31aa01cb",
   "metadata": {},
   "outputs": [],
   "source": [
    "jobs_data.reset_index(inplace=True, drop=True)"
   ]
  },
  {
   "cell_type": "markdown",
   "id": "c69688f4-8b60-4ae8-baad-1ec083d06ff1",
   "metadata": {},
   "source": [
    "Podemos imputar de manera sencilla algunas variables:\n",
    "- Algunas empresas no proporcionan su nombre por motivos de confidencialidad, por lo que imputaremos este valor en la columna `Company`\n",
    "- Diferentes empresa no especifican su giro, por lo que imputaremos el valor \"not specified\" en la columna `Industry`"
   ]
  },
  {
   "cell_type": "code",
   "execution_count": 13,
   "id": "729a1445-a31c-4491-baa0-f207feeb8e0e",
   "metadata": {},
   "outputs": [],
   "source": [
    "values = {\"Company\": \"confidential\", \"Industry\": \"not specified\"}\n",
    "jobs_data = jobs_data.fillna(value=values)"
   ]
  },
  {
   "cell_type": "code",
   "execution_count": 14,
   "id": "0723f153-5a8d-433d-a569-398e58e52198",
   "metadata": {},
   "outputs": [
    {
     "data": {
      "text/plain": [
       "Job_title         0.000000\n",
       "Company           0.000000\n",
       "State             0.212145\n",
       "City              0.212145\n",
       "Min_Salary        0.000000\n",
       "Max_Salary        0.000000\n",
       "SalaryCurrency    0.000000\n",
       "Job_Desc          0.000000\n",
       "Industry          0.000000\n",
       "Date_Posted       0.000000\n",
       "Valid_until       0.000000\n",
       "Job_Type          0.000000\n",
       "Country           0.000000\n",
       "dtype: float64"
      ]
     },
     "execution_count": 14,
     "metadata": {},
     "output_type": "execute_result"
    }
   ],
   "source": [
    "jobs_data.isna().sum()/len(jobs_data)"
   ]
  },
  {
   "cell_type": "markdown",
   "id": "14415d0b-3744-488a-a1a4-db9fd7e2210a",
   "metadata": {},
   "source": [
    "Las columnas `Date_Posted` y `Valid_until` son fechas, por lo que podemos modificar el tipo de dato en dicha variable"
   ]
  },
  {
   "cell_type": "code",
   "execution_count": 15,
   "id": "3b29c8b9-2abf-48c6-9a0f-41360fe5f751",
   "metadata": {},
   "outputs": [],
   "source": [
    "jobs_data['Date_Posted'] = pd.to_datetime(jobs_data['Date_Posted'])\n",
    "jobs_data['Valid_until'] = pd.to_datetime(jobs_data['Valid_until'])"
   ]
  },
  {
   "cell_type": "code",
   "execution_count": 16,
   "id": "e89a76e2-964b-4bd5-9945-29e38cf21fde",
   "metadata": {},
   "outputs": [
    {
     "name": "stdout",
     "output_type": "stream",
     "text": [
      "<class 'pandas.core.frame.DataFrame'>\n",
      "RangeIndex: 2569 entries, 0 to 2568\n",
      "Data columns (total 13 columns):\n",
      " #   Column          Non-Null Count  Dtype         \n",
      "---  ------          --------------  -----         \n",
      " 0   Job_title       2569 non-null   object        \n",
      " 1   Company         2569 non-null   object        \n",
      " 2   State           2024 non-null   object        \n",
      " 3   City            2024 non-null   object        \n",
      " 4   Min_Salary      2569 non-null   object        \n",
      " 5   Max_Salary      2569 non-null   object        \n",
      " 6   SalaryCurrency  2569 non-null   object        \n",
      " 7   Job_Desc        2569 non-null   object        \n",
      " 8   Industry        2569 non-null   object        \n",
      " 9   Date_Posted     2569 non-null   datetime64[ns]\n",
      " 10  Valid_until     2569 non-null   datetime64[ns]\n",
      " 11  Job_Type        2569 non-null   object        \n",
      " 12  Country         2569 non-null   object        \n",
      "dtypes: datetime64[ns](2), object(11)\n",
      "memory usage: 261.0+ KB\n"
     ]
    }
   ],
   "source": [
    "jobs_data.info()"
   ]
  },
  {
   "cell_type": "markdown",
   "id": "90283310-7cb9-41f1-86e8-10ccf04a66c2",
   "metadata": {},
   "source": [
    "Analizando diversas muestras de aquellas observaciones que contienen valores nulos en las columnas `State` y `City`, podemos notar que muchos trabajos no colocan en donde se trabajaría, ya que pueden ser trabajos por vía remota o prefiere la misma empresa no proporcionar dicha información más que mencionar el país.\n",
    "\n",
    "Por tal motivo, remplazaremos estos valores por un indicador de omisión de esta información"
   ]
  },
  {
   "cell_type": "code",
   "execution_count": 17,
   "id": "a2743af5-6272-41de-9660-da2fdcc3325b",
   "metadata": {},
   "outputs": [
    {
     "data": {
      "text/plain": [
       "Job_title         0.0\n",
       "Company           0.0\n",
       "State             0.0\n",
       "City              0.0\n",
       "Min_Salary        0.0\n",
       "Max_Salary        0.0\n",
       "SalaryCurrency    0.0\n",
       "Job_Desc          0.0\n",
       "Industry          0.0\n",
       "Date_Posted       0.0\n",
       "Valid_until       0.0\n",
       "Job_Type          0.0\n",
       "Country           0.0\n",
       "dtype: float64"
      ]
     },
     "execution_count": 17,
     "metadata": {},
     "output_type": "execute_result"
    }
   ],
   "source": [
    "jobs_data = jobs_data.fillna(value={'State': 'not specified', 'City': 'not specified'})\n",
    "jobs_data.isna().sum()/len(jobs_data)"
   ]
  },
  {
   "cell_type": "markdown",
   "id": "81aee8bf-ec21-4ccc-b01d-44505076657f",
   "metadata": {},
   "source": [
    "En las columnas `Min_Salary` y `Max_Salary` se tienen valores igual a -1, lo cual representa que la página de glassdoor, para ciertos empleos, no tiene el salario, o el rango salarial, en un apartado especial de la página. Reemplazamos esos valores por `NaN` y determinamos la proporción de valores perdidos"
   ]
  },
  {
   "cell_type": "code",
   "execution_count": 18,
   "id": "1075e719-9296-4842-8fdc-f7012633cbc3",
   "metadata": {},
   "outputs": [],
   "source": [
    "jobs_data['Min_Salary'] = jobs_data['Min_Salary'].replace(-1,np.NaN)\n",
    "jobs_data['Max_Salary'] = jobs_data['Max_Salary'].replace(-1,np.NaN)"
   ]
  },
  {
   "cell_type": "code",
   "execution_count": 19,
   "id": "9d88b56d-b7e6-4230-987b-fdc24387a323",
   "metadata": {},
   "outputs": [
    {
     "data": {
      "text/plain": [
       "Job_title         0.00000\n",
       "Company           0.00000\n",
       "State             0.00000\n",
       "City              0.00000\n",
       "Min_Salary        0.82717\n",
       "Max_Salary        0.82717\n",
       "SalaryCurrency    0.00000\n",
       "Job_Desc          0.00000\n",
       "Industry          0.00000\n",
       "Date_Posted       0.00000\n",
       "Valid_until       0.00000\n",
       "Job_Type          0.00000\n",
       "Country           0.00000\n",
       "dtype: float64"
      ]
     },
     "execution_count": 19,
     "metadata": {},
     "output_type": "execute_result"
    }
   ],
   "source": [
    "jobs_data.isna().sum()/len(jobs_data)"
   ]
  },
  {
   "cell_type": "markdown",
   "id": "8ec1c210-ca6d-4489-bb1b-0922ba35feb7",
   "metadata": {},
   "source": [
    "Vamos a analizar la información de la variable `Job_Desc` para obtener más información del salario y poder imputar información en las columnas `Min_Salary`y `Max_Salary`"
   ]
  },
  {
   "cell_type": "markdown",
   "id": "37a85485-2396-42cf-b6b3-1709609d80b2",
   "metadata": {},
   "source": [
    "Como primer intento, notamos que, en caso de estar descrito el salario en la oferta laboral, muchos de estos salarios tienen un formato \\\\$xxx,xxx.xxx - \\\\$xxx,xxx.xxx, por lo que los obtenemos con el uso de expresiones regulares"
   ]
  },
  {
   "cell_type": "code",
   "execution_count": 20,
   "id": "1a541d69-c2b9-417e-aaaa-7bc42d1664c8",
   "metadata": {},
   "outputs": [
    {
     "data": {
      "text/plain": [
       "['$55.00', '$60.00']"
      ]
     },
     "execution_count": 20,
     "metadata": {},
     "output_type": "execute_result"
    }
   ],
   "source": [
    "rangos_salariales_1 = jobs_data['Job_Desc'].str.findall(r'(\\$\\d+[\\.\\,]\\d+[\\.\\,]*\\d*)', flags=re.I)\n",
    "rangos_salariales_1[0]"
   ]
  },
  {
   "cell_type": "markdown",
   "id": "c53e382d-edc6-4661-93de-ac9bdf8b175c",
   "metadata": {},
   "source": [
    "Creamos algunas funciones auxiliares para limpiar y obtener los datos"
   ]
  },
  {
   "cell_type": "code",
   "execution_count": 21,
   "id": "e99fd9ee-6fc3-407b-a828-0e1c734e791d",
   "metadata": {},
   "outputs": [],
   "source": [
    "#Funciones auxiliares:\n",
    "#Función para eliminar algunos caracteres en las listas que contiene rangos_salariales_1\n",
    "def fixed_salary(lista):\n",
    "    if isinstance(lista, str):\n",
    "        return []\n",
    "    if(len(lista)> 0):\n",
    "        for i in range(len(lista)):\n",
    "            lista[i] = lista[i].replace(\",\", \"\")\n",
    "            lista[i] = lista[i].replace(\"$\", \"\")\n",
    "            #Existen algunos casos donde se utilizan los puntos como separadores de miles y decimales a la vez, por ejemplo: $1.425.870\n",
    "            if lista[i].count(\".\")>1:\n",
    "                nums_sep = lista[i].split(\".\")\n",
    "                lista[i] = \"\".join(nums_sep[:len(nums_sep)-1]) + \".\"+nums_sep[-1]\n",
    "        return lista\n",
    "    else:\n",
    "        return []\n",
    "#Función para obtener los datos de las listas de rangos_salariales_1 para los salarios mínimos y máximos\n",
    "def get_salary(lista, index):\n",
    "    if(len(lista)> 0): \n",
    "        #En este caso podemos sacar salario mínimo y máximo\n",
    "        if len(lista) > 1:\n",
    "            #Puede suceder que la segunda cifra no sea un salario, por ejemplo: \"Salario: $1.425.870 + $117.172 Auxilio de trasporte\"\n",
    "            if float(lista[0])<=float(lista[1]): #Aquí no habria problema\n",
    "                return float(lista[index])\n",
    "            else: #Aquí tendríamos que checar\n",
    "                if index == 0:\n",
    "                    return float(lista[index])\n",
    "                else: \n",
    "                    return np.NaN\n",
    "        else: \n",
    "            if index > 0:\n",
    "                return np.NaN\n",
    "            else:\n",
    "                return float(lista[0])\n",
    "    else:\n",
    "        return np.NaN"
   ]
  },
  {
   "cell_type": "markdown",
   "id": "6106847c-3740-404a-83d2-b3a80354b13a",
   "metadata": {},
   "source": [
    "Primero limpiamos el texto de el anterior series eliminando algunos caracteres"
   ]
  },
  {
   "cell_type": "code",
   "execution_count": 22,
   "id": "4a22b898-fcf7-4b05-96fd-c454d9179155",
   "metadata": {},
   "outputs": [
    {
     "data": {
      "text/plain": [
       "0          [55.00, 60.00]\n",
       "1          [39.68, 60.00]\n",
       "2    [60000.00, 70000.00]\n",
       "3                      []\n",
       "4    [62000.00, 70000.00]\n",
       "Name: Job_Desc, dtype: object"
      ]
     },
     "execution_count": 22,
     "metadata": {},
     "output_type": "execute_result"
    }
   ],
   "source": [
    "rangos_salariales_1 = rangos_salariales_1.map(fixed_salary)\n",
    "rangos_salariales_1.head()"
   ]
  },
  {
   "cell_type": "markdown",
   "id": "e165b7d8-12dd-492a-93d7-1764e5131d65",
   "metadata": {},
   "source": [
    "Obtenemos el salario mínimo y máximo"
   ]
  },
  {
   "cell_type": "code",
   "execution_count": 23,
   "id": "6c07d9bf-1256-49c2-bd88-9aa4b31e0420",
   "metadata": {},
   "outputs": [
    {
     "data": {
      "text/plain": [
       "0          55.00\n",
       "1          39.68\n",
       "2       60000.00\n",
       "3            NaN\n",
       "4       62000.00\n",
       "          ...   \n",
       "2564         NaN\n",
       "2565         NaN\n",
       "2566         NaN\n",
       "2567        5.60\n",
       "2568         NaN\n",
       "Name: Job_Desc, Length: 2569, dtype: float64"
      ]
     },
     "execution_count": 23,
     "metadata": {},
     "output_type": "execute_result"
    }
   ],
   "source": [
    "aux_Min_Salary = rangos_salariales_1.map(lambda x : get_salary(x, 0))\n",
    "aux_Max_Salary = rangos_salariales_1.map(lambda x : get_salary(x, 1))\n",
    "aux_Min_Salary"
   ]
  },
  {
   "cell_type": "markdown",
   "id": "829daa69-c546-4e53-a5ff-0489dd515af4",
   "metadata": {},
   "source": [
    "Ahora fundimos las columnas `Min_Salary` y `Max_Salary` con los series que creamos:"
   ]
  },
  {
   "cell_type": "code",
   "execution_count": 24,
   "id": "8b31a761-e788-489b-a26b-c5387ce41e56",
   "metadata": {},
   "outputs": [],
   "source": [
    "def merge_salary_series(aux_serie, original_serie):\n",
    "    aux_list = []\n",
    "    for i in range(len(aux_serie)):\n",
    "        #Daremos preferencia al rango salarial obtenido por la descripcción del trabajo\n",
    "        if not np.isnan(aux_serie[i]):\n",
    "            aux_list.append(aux_serie[i])\n",
    "        elif not not np.isnan(original_serie[i]):\n",
    "            aux_list.append(original_serie[i])\n",
    "        else:\n",
    "            aux_list.append(np.NaN)\n",
    "    return(aux_list)"
   ]
  },
  {
   "cell_type": "code",
   "execution_count": 25,
   "id": "5a44ff04-1907-4f5b-82ff-0f92c1142566",
   "metadata": {},
   "outputs": [],
   "source": [
    "jobs_data['Min_Salary'] = pd.Series(merge_salary_series(aux_Min_Salary, jobs_data['Min_Salary']))\n",
    "jobs_data['Max_Salary'] = pd.Series(merge_salary_series(aux_Max_Salary, jobs_data['Max_Salary']))"
   ]
  },
  {
   "cell_type": "code",
   "execution_count": 26,
   "id": "653ebea5-2470-4df5-91fd-bf0c7eece5f4",
   "metadata": {},
   "outputs": [
    {
     "data": {
      "text/plain": [
       "0       60.0\n",
       "1       60.0\n",
       "2    70000.0\n",
       "3        NaN\n",
       "4    70000.0\n",
       "Name: Max_Salary, dtype: float64"
      ]
     },
     "execution_count": 26,
     "metadata": {},
     "output_type": "execute_result"
    }
   ],
   "source": [
    "jobs_data['Max_Salary'].head()"
   ]
  },
  {
   "cell_type": "markdown",
   "id": "39606061-f797-4bf2-8c17-fcd9df0e4e90",
   "metadata": {},
   "source": [
    "Los salarios máximos y mínimos pueden estar en diferentes formas de pago, por lo que vamos a obtener la temporalidad de pago de los salarios anteriores"
   ]
  },
  {
   "cell_type": "code",
   "execution_count": 27,
   "id": "506c904a-eb2f-436b-96b6-2ab1d79b5585",
   "metadata": {},
   "outputs": [],
   "source": [
    "#Tenemos diferentes valores que no siguen un patron específico, por lo que optaremos por sustituir todos los casos\n",
    "different_salaries = {'per hourSchedule': 'hour',\n",
    "    'per yearSchedule': 'year',\n",
    "    'not specified': 'not specified',\n",
    "    'per yearBenefits': 'year',\n",
    "    'per hourBenefits': 'hour',\n",
    "    'per hourExperience': 'hour',\n",
    "    'per monthLanguage': 'month',\n",
    "    'al mesHorario': 'month',\n",
    "    'per monthExperience': 'month',\n",
    "    'per monthBenefits': 'month',\n",
    "    'al mesPrestaciones': 'month',\n",
    "    'a la semanaHorario': 'week',\n",
    "    'al mesEducación': 'month',\n",
    "    'per monthEducation': 'month',\n",
    "    'al mesExperiencia': 'month',\n",
    "    'mensuales brutosModalidad de trabajo de manera HibridaHorarios': 'month',\n",
    "    'Brutos\\nPrestaciones de Ley\\nVales de despensa\\nEsquema de trabajo hibrido\\nZona de trabajo': 'month',\n",
    "    'de Bono por cumplimiento de objetivosPrestaciones de LeySeguro de vidaCrecimiento y estabilidad laboral\\nLugar de trabajo': 'month',\n",
    "    'al díaHorario': 'day',\n",
    "    'MXN Mensual\\n\\nCategoría': 'month',\n",
    "    'al mes brutosTipo de puesto': 'month',\n",
    "    'al añoHorario': 'year',\n",
    "    'mensuales BRUTOS\\nPrestaciones de ley\\nBonos por asistencia y puntualidad\\nUtilidades\\nHorario laboral': 'month',\n",
    "    'al mesIdioma': 'month',\n",
    "    'netosTipo de puesto': 'month',\n",
    "    'netos mensualesPrestaciones de LeyPrestaciones superioresLugar de trabajo': 'month',\n",
    "    'brutos mensualesPrestaciones de ley y superioresOpción a plantaHorario': 'month',\n",
    "    'mensuales brutosPrestaciones de leyEstabilidad LaboralUniformesTipo de puesto': 'month',\n",
    "    'mensuales brutoPrestaciones de leyTrabajo de lunes a sábado con descanso en domingoEstabilidad LaboralUniformesTipo de puesto': 'month',\n",
    "    'al mesEducation': 'month',\n",
    "    'al mesCrecimiento profesional y económicoCapacitaciones y certificaciones constantesCalificaciones básicas': 'month',\n",
    "    'Pesos\\n\\n\\nPais': 'month',\n",
    "    'pesos brutos mensuales que se pagarán de la siguiente forma': 'month',\n",
    "    'per monthExpected Start Date': 'month',\n",
    "    'per yearFlexible Language Requirement': 'year',\n",
    "    'Grade 10 BU\\n\\nApplication Deadline': 'month',\n",
    "    'per monthFlexible Language Requirement': 'month',\n",
    "    'per hour\\n\\nApplication Close': 'hour',\n",
    "    'Hourly\\nGrade': 'hour',\n",
    "    'per annum\\n\\nApplication Close': 'year',\n",
    "    'per hourFlexible Language Requirement': 'hour',\n",
    "    'per year plus benefits and paid OT\\n\\nHow to Apply': 'year',\n",
    "    'per hourEducation': 'hour'}\n",
    "\n",
    "def get_salary_scheme(lista):\n",
    "    if isinstance(lista, str):\n",
    "        return(\"not specified\")\n",
    "    if len(lista)>0:\n",
    "        return(different_salaries[lista[0]])\n",
    "    else: \n",
    "        return(\"not specified\")"
   ]
  },
  {
   "cell_type": "markdown",
   "id": "defe0588-d1e6-4222-aae9-a41bf4663893",
   "metadata": {},
   "source": [
    "Obtenemos y limpiamos las formas de pago"
   ]
  },
  {
   "cell_type": "code",
   "execution_count": 28,
   "id": "aac211c8-05a8-479f-be3e-4ab6798364e4",
   "metadata": {},
   "outputs": [],
   "source": [
    "salary_scheme_series = jobs_data['Job_Desc'].str.findall(r'\\$\\d+[\\.\\,]\\d+[\\.\\,]*\\d* ([\\w\\s]+):')\n",
    "salary_scheme_series[salary_scheme_series.isna()] = \"not specified\""
   ]
  },
  {
   "cell_type": "markdown",
   "id": "7454718a-c02f-4082-bda4-21f9e7a3b53e",
   "metadata": {},
   "source": [
    "Finalmente, agregamos el esquema salarial"
   ]
  },
  {
   "cell_type": "code",
   "execution_count": 29,
   "id": "abff46b0-3f61-4564-8ad7-c7d7d4416784",
   "metadata": {},
   "outputs": [],
   "source": [
    "jobs_data['Salary_Scheme'] = salary_scheme_series.map(get_salary_scheme)"
   ]
  },
  {
   "cell_type": "markdown",
   "id": "5512de37-958f-48b2-98ae-e0d229309cd1",
   "metadata": {},
   "source": [
    "Realizando una busqueda exhaustiva, podemos notar que existen casos que no fueron detectados por el código anterior. Al ser casos puntuales, agregamos estos datos de manera manual"
   ]
  },
  {
   "cell_type": "code",
   "execution_count": 30,
   "id": "40e24a77-1913-40e1-a395-f09dfa1d269e",
   "metadata": {
    "scrolled": true,
    "tags": []
   },
   "outputs": [],
   "source": [
    "jobs_data['Min_Salary'].loc[47] = 125\n",
    "jobs_data['Max_Salary'].loc[47] = 145\n",
    "jobs_data['Salary_Scheme'].loc[47] = \"hour\"\n",
    "jobs_data['Min_Salary'].loc[174] = 120000\n",
    "jobs_data['Max_Salary'].loc[174] = 140000\n",
    "jobs_data['Salary_Scheme'].loc[174] = \"year\"\n",
    "jobs_data['Min_Salary'].loc[197] = 132000\n",
    "jobs_data['Max_Salary'].loc[197] = 196000\n",
    "jobs_data['Salary_Scheme'].loc[197] = \"year\"\n",
    "jobs_data['Min_Salary'].loc[340] = 120000\n",
    "jobs_data['Max_Salary'].loc[340] = 180000\n",
    "jobs_data['Salary_Scheme'].loc[340] = \"year\"\n",
    "jobs_data['Min_Salary'].loc[390] = 29000\n",
    "jobs_data['Max_Salary'].loc[390] = 80000\n",
    "jobs_data['Salary_Scheme'].loc[390] = \"month\"\n",
    "jobs_data['Min_Salary'].loc[442] = 15000\n",
    "jobs_data['Max_Salary'].loc[442] = 16000\n",
    "jobs_data['Salary_Scheme'].loc[442] = \"month\"\n",
    "jobs_data['Min_Salary'].loc[722] = 65000\n",
    "jobs_data['Max_Salary'].loc[722] = 75000\n",
    "jobs_data['Salary_Scheme'].loc[722] = \"month\"\n",
    "jobs_data['Min_Salary'].loc[727] = 65000\n",
    "jobs_data['Max_Salary'].loc[727] = 75000\n",
    "jobs_data['Salary_Scheme'].loc[727] = \"month\"\n",
    "jobs_data['Min_Salary'].loc[734] = 65000\n",
    "jobs_data['Max_Salary'].loc[734] = 75000\n",
    "jobs_data['Salary_Scheme'].loc[734] = \"month\"\n",
    "jobs_data['Min_Salary'].loc[738] = 65000\n",
    "jobs_data['Max_Salary'].loc[738] = 75000\n",
    "jobs_data['Salary_Scheme'].loc[738] = \"month\"\n",
    "jobs_data['Min_Salary'].loc[761] = 35000\n",
    "jobs_data['Max_Salary'].loc[761] = 45000\n",
    "jobs_data['Salary_Scheme'].loc[761] = \"month\"\n",
    "jobs_data['Min_Salary'].loc[767] = 9000\n",
    "jobs_data['Max_Salary'].loc[767] = 12000\n",
    "jobs_data['Salary_Scheme'].loc[767] = \"month\"\n",
    "jobs_data['Min_Salary'].loc[875] = 57600\n",
    "jobs_data['Max_Salary'].loc[875] = 128400\n",
    "jobs_data['Salary_Scheme'].loc[875] = \"month\"\n",
    "jobs_data['Max_Salary'].loc[1136] = 18000\n",
    "jobs_data['Max_Salary'].loc[1136] = 23000\n",
    "jobs_data['Salary_Scheme'].loc[1136] = \"month\"\n",
    "jobs_data['Min_Salary'].loc[712] = 18499.00\n",
    "jobs_data['Salary_Scheme'].loc[712] = \"month\"\n",
    "jobs_data['Min_Salary'].loc[744] = 20000\n",
    "jobs_data['Salary_Scheme'].loc[744] = \"month\"\n",
    "jobs_data['Min_Salary'].loc[759] = 7000\n",
    "jobs_data['Salary_Scheme'].loc[759] = \"month\"\n",
    "jobs_data['Min_Salary'].loc[1186] = 20000\n",
    "jobs_data['Salary_Scheme'].loc[1186] = \"month\"\n",
    "jobs_data['Min_Salary'].loc[1394] = 18499.00\n",
    "jobs_data['Salary_Scheme'].loc[1394] = \"month\""
   ]
  },
  {
   "cell_type": "markdown",
   "id": "2e3411a2-3bab-4318-9686-66957b714e4d",
   "metadata": {},
   "source": [
    "Ahora, podemos ver como disminuyo el porcentaje de valores perdidos del rango salarial"
   ]
  },
  {
   "cell_type": "code",
   "execution_count": 31,
   "id": "a5e07412-bd59-4193-965d-1e9194006614",
   "metadata": {},
   "outputs": [
    {
     "data": {
      "text/plain": [
       "Job_title         0.000000\n",
       "Company           0.000000\n",
       "State             0.000000\n",
       "City              0.000000\n",
       "Min_Salary        0.695991\n",
       "Max_Salary        0.777345\n",
       "SalaryCurrency    0.000000\n",
       "Job_Desc          0.000000\n",
       "Industry          0.000000\n",
       "Date_Posted       0.000000\n",
       "Valid_until       0.000000\n",
       "Job_Type          0.000000\n",
       "Country           0.000000\n",
       "Salary_Scheme     0.000000\n",
       "dtype: float64"
      ]
     },
     "execution_count": 31,
     "metadata": {},
     "output_type": "execute_result"
    }
   ],
   "source": [
    "jobs_data.isna().sum()/len(jobs_data)"
   ]
  },
  {
   "cell_type": "markdown",
   "id": "7019406f-ee8b-4f26-b90d-7bdd549d2da8",
   "metadata": {},
   "source": [
    "Aquellas observaciones con valores nulos nos pueden ayudar a obtener más información acerca de otros temas por lo que eliminar dichas observaciones no sería lo más adecuado. Además, diversas ofertas laborales prefieren omitir el rango salarial por motivos estratégicos, por lo que están justificados estos valores perdidos. En caso de querer aplicar algún modelo u obtener alguna estadística, considerando esta variable,  podemos filtrar los datos por aquellos donde se tenga observaciones completas obteniendo un conjunto de datos con 571 observaciones"
   ]
  },
  {
   "cell_type": "code",
   "execution_count": 32,
   "id": "57bed1dd-9b0b-4691-8518-566d8c180c45",
   "metadata": {},
   "outputs": [
    {
     "data": {
      "text/plain": [
       "(571, 14)"
      ]
     },
     "execution_count": 32,
     "metadata": {},
     "output_type": "execute_result"
    }
   ],
   "source": [
    "jobs_data.dropna().shape"
   ]
  },
  {
   "cell_type": "markdown",
   "id": "85665a19-b79d-420a-b35f-160fd8820853",
   "metadata": {},
   "source": [
    "#  Creación y modificación de variables"
   ]
  },
  {
   "cell_type": "markdown",
   "id": "ce5d3b73-05e6-44ff-bbfa-367330f48fa2",
   "metadata": {},
   "source": [
    "De la variable `Job_Desc` podemos obtener mucha información; por ejemplo, podemos obtener cuantos requerimientos, a nivel de software, es solicitado por los empleadores. En este caso buscamos los programas más comúnes en el ámbito de la ciencia de datos"
   ]
  },
  {
   "cell_type": "code",
   "execution_count": 33,
   "id": "b387f501-d828-4baf-9af8-38703bd5e28a",
   "metadata": {},
   "outputs": [],
   "source": [
    "common_software = [\"Python\", \"SQL\", \"MongoDB\", \"MariaDB\", \"Azure\", \"Docker\", \"Kubernetes\", \"Java\", \"Julia\", \"Scala\", \"C\", \"C\\+\\+\", \"JavaScript\", \"Swift\", \"Go\", \"MATLAB\", \"SAS\", \"SPSS\", \"Bash\", \"Visual Basic\", \"PHP\", \"HTML\", \"Ruby\", \"Git\", \"Excel\", \"Powepoint\", \"Word\", \"Tablue\", \"MicroStrategy\", \"PowerBI\", \"Apache Spark\", \"Hadoop\"]\n",
    "\n",
    "def count_software(text):\n",
    "    n = 0\n",
    "    for software in common_software:\n",
    "        search = re.search(software, text, flags= re.I)\n",
    "        if not search is None:\n",
    "            n +=1 \n",
    "    return n"
   ]
  },
  {
   "cell_type": "code",
   "execution_count": 34,
   "id": "1ae2951c-8655-4f15-93e3-507d5d41158a",
   "metadata": {},
   "outputs": [],
   "source": [
    "jobs_data['cantidad_software'] = jobs_data['Job_Desc']. map(count_software)"
   ]
  },
  {
   "cell_type": "markdown",
   "id": "bb89e768-4a27-4fbb-935b-8d443001bdbe",
   "metadata": {},
   "source": [
    "Para el caso del lenguaje de programación R, se debe dar un tratamiento especial, ya que el anterior código busca los nombres de manera específica y R se puede confundir como parte de una palabra"
   ]
  },
  {
   "cell_type": "code",
   "execution_count": 35,
   "id": "adc3a025-efc6-4692-9095-a7e6c1bd17d1",
   "metadata": {},
   "outputs": [],
   "source": [
    "#Funció para determinar tenemos aislada la letra R en la descripcción y así saber que se trata del lenguaje de programación\n",
    "def find_R(lista_texto):\n",
    "    count_R = 0\n",
    "    for texto in lista_texto:  \n",
    "        if texto == \"R\":\n",
    "            count_R += 1\n",
    "    if count_R>0 :\n",
    "        return 1\n",
    "    else:\n",
    "        return 0"
   ]
  },
  {
   "cell_type": "code",
   "execution_count": 36,
   "id": "48b8e07b-27e8-492b-9992-3c9f89e52b16",
   "metadata": {},
   "outputs": [],
   "source": [
    "r_lenguaje_n = jobs_data[\"Job_Desc\"].str.replace(\",|\\.|\\;|\\:|\\+|·\", \" \", regex=True).str.split(\" \").map(find_R)"
   ]
  },
  {
   "cell_type": "markdown",
   "id": "fa5658dd-81ee-4885-954f-0eed6e843352",
   "metadata": {},
   "source": [
    "Finalmente, añadimos las ocurrencias del lenguaje R a la variable que contaba el software"
   ]
  },
  {
   "cell_type": "code",
   "execution_count": 37,
   "id": "98e98963-d1c0-46c2-a0ea-694debf8c1dd",
   "metadata": {},
   "outputs": [],
   "source": [
    "jobs_data['cantidad_software'] = jobs_data['cantidad_software'] + r_lenguaje_n"
   ]
  },
  {
   "cell_type": "markdown",
   "id": "09543d54-9358-4895-9263-f6a647cdc4b0",
   "metadata": {},
   "source": [
    "Podemos determinar que tipo de experiencia/habilidades (senior, junior, etc.) que están buscando los empleadores"
   ]
  },
  {
   "cell_type": "code",
   "execution_count": 38,
   "id": "e74f4750-4455-4c27-a1fc-89124f95bab5",
   "metadata": {},
   "outputs": [],
   "source": [
    "#Obtenemos un Series donde se recolecten los términos junior, senior, trainee, entry level y semi sr\n",
    "level_data_scientist = jobs_data[\"Job_title\"].str.findall(\"Junior|Jr|Senior|Sr|Trainee|ENTRY.*LEVEL|Semi.*Sr\", flags= re.I)"
   ]
  },
  {
   "cell_type": "code",
   "execution_count": 39,
   "id": "6be59b22-d8ad-4507-8e2d-7cf0b8a6da20",
   "metadata": {},
   "outputs": [],
   "source": [
    "#Hacemos una función para homogeneizar los anteriores términos\n",
    "def check_levels(level_list):\n",
    "    level_list = list(set(level_list))\n",
    "    if len(level_list) == 0:\n",
    "        return \"Not specified\"\n",
    "    elif len(level_list) > 1:\n",
    "        return \"free level\"\n",
    "    else:\n",
    "        if level_list[0].lower() in [\"junior\", \"jr\", \"entry-level\", \"entry level\"]:\n",
    "            return \"Junior\"\n",
    "        elif level_list[0].lower() in [\"senior\", \"sr\"]:\n",
    "            return \"Senior\"\n",
    "        else:\n",
    "            return \"SemiSr\""
   ]
  },
  {
   "cell_type": "markdown",
   "id": "2c6d79f5-5cef-4d4a-b05b-a2edeb131f8e",
   "metadata": {},
   "source": [
    "Agregamos una columna con dicha información:"
   ]
  },
  {
   "cell_type": "code",
   "execution_count": 40,
   "id": "ce170b8a-4989-4f86-af26-ad10b0d6b6f4",
   "metadata": {},
   "outputs": [],
   "source": [
    "jobs_data['level_required'] = level_data_scientist.map(check_levels)"
   ]
  },
  {
   "cell_type": "markdown",
   "id": "f823ab2b-4f67-47c6-957c-42d608d9febb",
   "metadata": {},
   "source": [
    "Hacemos una variable que indique si es requerido algún tipo de grado específico:"
   ]
  },
  {
   "cell_type": "code",
   "execution_count": 41,
   "id": "d40986c9-62ad-42a4-a9da-577af7a62265",
   "metadata": {},
   "outputs": [],
   "source": [
    "jobs_data['Education_required'] = (\n",
    "    jobs_data[\"Job_Desc\"].str.contains(\"Degree|Bachelor|licenciatura|Posgrado|Carrera|Grado|Educaci[ó|o]n|Education|Estudios|Studies\", flags=re.I).\n",
    "    apply(lambda x: 1 if x else 0)\n",
    ")"
   ]
  },
  {
   "cell_type": "markdown",
   "id": "87c5d6b2-bbec-42a5-a8ea-131f587ab198",
   "metadata": {},
   "source": [
    "Tenemos un rango salarial en algunas ofertas, así que obtenemos el promedio del salario para cada oferta laboral donde se tenga la información"
   ]
  },
  {
   "cell_type": "code",
   "execution_count": 42,
   "id": "4f982833-67c3-409b-8913-38b574b47c6b",
   "metadata": {},
   "outputs": [],
   "source": [
    "jobs_data[\"Mean_salary\"] = (jobs_data['Min_Salary'] + jobs_data['Max_Salary'])/2"
   ]
  },
  {
   "cell_type": "markdown",
   "id": "2fa4bb39-d84e-40c7-9900-2013f47f6a83",
   "metadata": {},
   "source": [
    "Con estas nuevas variables, tenemos la siguiente estructura en nuestro conjunto de datos"
   ]
  },
  {
   "cell_type": "code",
   "execution_count": 43,
   "id": "024d3b15-1e80-4c32-bb44-fd64f4b81af8",
   "metadata": {},
   "outputs": [
    {
     "name": "stdout",
     "output_type": "stream",
     "text": [
      "<class 'pandas.core.frame.DataFrame'>\n",
      "RangeIndex: 2569 entries, 0 to 2568\n",
      "Data columns (total 18 columns):\n",
      " #   Column              Non-Null Count  Dtype         \n",
      "---  ------              --------------  -----         \n",
      " 0   Job_title           2569 non-null   object        \n",
      " 1   Company             2569 non-null   object        \n",
      " 2   State               2569 non-null   object        \n",
      " 3   City                2569 non-null   object        \n",
      " 4   Min_Salary          781 non-null    float64       \n",
      " 5   Max_Salary          572 non-null    float64       \n",
      " 6   SalaryCurrency      2569 non-null   object        \n",
      " 7   Job_Desc            2569 non-null   object        \n",
      " 8   Industry            2569 non-null   object        \n",
      " 9   Date_Posted         2569 non-null   datetime64[ns]\n",
      " 10  Valid_until         2569 non-null   datetime64[ns]\n",
      " 11  Job_Type            2569 non-null   object        \n",
      " 12  Country             2569 non-null   object        \n",
      " 13  Salary_Scheme       2569 non-null   object        \n",
      " 14  cantidad_software   2569 non-null   int64         \n",
      " 15  level_required      2569 non-null   object        \n",
      " 16  Education_required  2569 non-null   int64         \n",
      " 17  Mean_salary         571 non-null    float64       \n",
      "dtypes: datetime64[ns](2), float64(3), int64(2), object(11)\n",
      "memory usage: 361.4+ KB\n"
     ]
    }
   ],
   "source": [
    "jobs_data.info()"
   ]
  },
  {
   "cell_type": "markdown",
   "id": "d21889c1-b405-4aa7-b3a1-6a5fd5db2fdb",
   "metadata": {},
   "source": [
    "Finalmente, modificamos el nombre de nuestras variables"
   ]
  },
  {
   "cell_type": "code",
   "execution_count": 44,
   "id": "81b49157-0343-462f-a25c-d310a67c815d",
   "metadata": {},
   "outputs": [
    {
     "name": "stdout",
     "output_type": "stream",
     "text": [
      "<class 'pandas.core.frame.DataFrame'>\n",
      "RangeIndex: 2569 entries, 0 to 2568\n",
      "Data columns (total 18 columns):\n",
      " #   Column                            Non-Null Count  Dtype         \n",
      "---  ------                            --------------  -----         \n",
      " 0   Puesto laboral                    2569 non-null   object        \n",
      " 1   Empresa                           2569 non-null   object        \n",
      " 2   Estado                            2569 non-null   object        \n",
      " 3   Ciudad                            2569 non-null   object        \n",
      " 4   Salario mínimo                    781 non-null    float64       \n",
      " 5   Salario máximo                    572 non-null    float64       \n",
      " 6   Tipo de moneda                    2569 non-null   object        \n",
      " 7   Descripción                       2569 non-null   object        \n",
      " 8   Giro de la empresa                2569 non-null   object        \n",
      " 9   Fecha de publicación              2569 non-null   datetime64[ns]\n",
      " 10  Vigencia de la oferta             2569 non-null   datetime64[ns]\n",
      " 11  Modalidad                         2569 non-null   object        \n",
      " 12  País                              2569 non-null   object        \n",
      " 13  Esquema de pago                   2569 non-null   object        \n",
      " 14  Cantidad de lenguajes requeridos  2569 non-null   int64         \n",
      " 15  Nivel de experiencia              2569 non-null   object        \n",
      " 16  Requerimiento educación           2569 non-null   int64         \n",
      " 17  Salario promedio                  571 non-null    float64       \n",
      "dtypes: datetime64[ns](2), float64(3), int64(2), object(11)\n",
      "memory usage: 361.4+ KB\n"
     ]
    }
   ],
   "source": [
    "jobs_data.rename(columns={\"Job_title\": \"Puesto laboral\", \"Company\": \"Empresa\", \"State\": \"Estado\", \"City\" : \"Ciudad\", \"Min_Salary\": \"Salario mínimo\",\n",
    "                         \"Max_Salary\": \"Salario máximo\", \"SalaryCurrency\": \"Tipo de moneda\", \"Job_Desc\": \"Descripción\", \"Industry\": \"Giro de la empresa\",\n",
    "                         \"Date_Posted\": \"Fecha de publicación\", \"Valid_until\": \"Vigencia de la oferta\", \"Job_Type\": \"Modalidad\", \"Country\": \"País\",\n",
    "                         \"Salary_Scheme\": \"Esquema de pago\", \"cantidad_software\": \"Cantidad de lenguajes requeridos\", \"level_required\": \"Nivel de experiencia\", \n",
    "                          \"Education_required\": \"Requerimiento educación\", \"Mean_salary\": \"Salario promedio\"}, inplace=True)\n",
    "jobs_data.info()"
   ]
  },
  {
   "cell_type": "markdown",
   "id": "81e3773f-2f42-47e9-8925-965ad58d9677",
   "metadata": {},
   "source": [
    "Finalmente, guardamos nuestro conjunto de datos"
   ]
  },
  {
   "cell_type": "code",
   "execution_count": null,
   "id": "67dd5135-af37-4f86-b703-6f046e4346b0",
   "metadata": {},
   "outputs": [],
   "source": [
    "jobs_data.to_csv(\"glassdoor_jobs.csv\")"
   ]
  },
  {
   "cell_type": "markdown",
   "id": "d02064ed-19a0-4fc4-a005-83e7df8634a0",
   "metadata": {},
   "source": [
    "## Análisis exploratorio"
   ]
  },
  {
   "cell_type": "code",
   "execution_count": 45,
   "id": "39af00b2-2bdf-4a43-8287-ae3a53812fe6",
   "metadata": {},
   "outputs": [],
   "source": [
    "jobs_data_clean = jobs_data.dropna()\n",
    "jobs_data_clean.reset_index(inplace=True, drop=True)"
   ]
  },
  {
   "cell_type": "markdown",
   "id": "c7560c44-1aff-41fc-b527-6f01d9f3162d",
   "metadata": {},
   "source": [
    "¿Cuál es el salario promedio de un científico de datos? \n",
    "Para determinarlo creamos una función para hacer la conversión a las diferentes denominaciones y obtener el salario promedio de toda la base de datos en dolares para simplificar el calculo del mismo"
   ]
  },
  {
   "cell_type": "code",
   "execution_count": 46,
   "id": "2dcee6ce-c036-439b-97ff-c9c4c80aa630",
   "metadata": {},
   "outputs": [],
   "source": [
    "def standar_salary(mean_salary, currency, scheme):\n",
    "    standar_money = []\n",
    "    for i in range(len(mean_salary)): \n",
    "        money = mean_salary[i]\n",
    "        #Convertimos a dolares (USD) para estandarizar nuestros valores\n",
    "        if currency[i] == \"CAD\":\n",
    "            money = money*0.75\n",
    "        if currency[i] == \"MXN\":\n",
    "            money = money*0.050\n",
    "        #Pasamos todos los salarios a pagos mensuales (vamos a suponer una jornada legal de 8 horas)\n",
    "        if scheme[i] == \"hour\":\n",
    "            money = money*8*5*4 #8 horas por 5 días por 4 semanas\n",
    "        if scheme[i] == \"year\":\n",
    "            money = money/12\n",
    "        if scheme[i] == \"week\":\n",
    "            money = money*4\n",
    "        standar_money.append(money)\n",
    "    return(standar_money)"
   ]
  },
  {
   "cell_type": "code",
   "execution_count": 47,
   "id": "08d2ad4c-c59f-4c2f-91eb-30407935d0c4",
   "metadata": {},
   "outputs": [],
   "source": [
    "jobs_data_clean[\"Salario promedio\"] = pd.Series(standar_salary(list(jobs_data_clean[\"Salario promedio\"]), list(jobs_data_clean[\"Tipo de moneda\"]), list(jobs_data_clean[\"Esquema de pago\"])))"
   ]
  },
  {
   "cell_type": "code",
   "execution_count": 48,
   "id": "e0cb234f-1e00-4987-90e0-a3569c9ff040",
   "metadata": {},
   "outputs": [
    {
     "data": {
      "text/plain": [
       "13557.049052940745"
      ]
     },
     "execution_count": 48,
     "metadata": {},
     "output_type": "execute_result"
    }
   ],
   "source": [
    "jobs_data_clean[\"Salario promedio\"].mean()"
   ]
  },
  {
   "cell_type": "markdown",
   "id": "d965daba",
   "metadata": {},
   "source": [
    "Buscamos identificar la expectativa salarial segun la experiencia y habilidades del analista, obtenemos el salario promedio con base al nivel de experiencia requerido por los empleadores para poder identificar la relación que hay entre las variables."
   ]
  },
  {
   "cell_type": "code",
   "execution_count": 49,
   "id": "1face8dc-3404-4c09-8a85-ecc830b9809c",
   "metadata": {},
   "outputs": [
    {
     "data": {
      "text/html": [
       "<div>\n",
       "<style scoped>\n",
       "    .dataframe tbody tr th:only-of-type {\n",
       "        vertical-align: middle;\n",
       "    }\n",
       "\n",
       "    .dataframe tbody tr th {\n",
       "        vertical-align: top;\n",
       "    }\n",
       "\n",
       "    .dataframe thead th {\n",
       "        text-align: right;\n",
       "    }\n",
       "</style>\n",
       "<table border=\"1\" class=\"dataframe\">\n",
       "  <thead>\n",
       "    <tr style=\"text-align: right;\">\n",
       "      <th></th>\n",
       "      <th>Salario promedio</th>\n",
       "    </tr>\n",
       "    <tr>\n",
       "      <th>Nivel de experiencia</th>\n",
       "      <th></th>\n",
       "    </tr>\n",
       "  </thead>\n",
       "  <tbody>\n",
       "    <tr>\n",
       "      <th>Junior</th>\n",
       "      <td>13504.643530</td>\n",
       "    </tr>\n",
       "    <tr>\n",
       "      <th>Not specified</th>\n",
       "      <td>11633.753561</td>\n",
       "    </tr>\n",
       "    <tr>\n",
       "      <th>SemiSr</th>\n",
       "      <td>400.000000</td>\n",
       "    </tr>\n",
       "    <tr>\n",
       "      <th>Senior</th>\n",
       "      <td>21931.160569</td>\n",
       "    </tr>\n",
       "    <tr>\n",
       "      <th>free level</th>\n",
       "      <td>3285.416667</td>\n",
       "    </tr>\n",
       "  </tbody>\n",
       "</table>\n",
       "</div>"
      ],
      "text/plain": [
       "                      Salario promedio\n",
       "Nivel de experiencia                  \n",
       "Junior                    13504.643530\n",
       "Not specified             11633.753561\n",
       "SemiSr                      400.000000\n",
       "Senior                    21931.160569\n",
       "free level                 3285.416667"
      ]
     },
     "execution_count": 49,
     "metadata": {},
     "output_type": "execute_result"
    }
   ],
   "source": [
    "jobs_data_clean.groupby('Nivel de experiencia').agg({'Salario promedio' :\"mean\"})"
   ]
  },
  {
   "cell_type": "markdown",
   "id": "739a562b-255d-4b8c-a451-cd6077cca284",
   "metadata": {},
   "source": [
    "Podemos notar que un nivel Senior gana, en promedio, más que cualquier otro nivel"
   ]
  },
  {
   "cell_type": "markdown",
   "id": "d218aa0a-3b03-4b4e-ac61-2c7a9f8ade1f",
   "metadata": {},
   "source": [
    "¿Cuántas habilidades en términos de software son requeridas en el ambito laboral?\n",
    "\n",
    "Mediante el campo de `Cantidad de lenguajes requeridos`, se obtienen datos estadísticos del total de los lenguajes  como lo es el promedio "
   ]
  },
  {
   "cell_type": "code",
   "execution_count": 50,
   "id": "b4195a1e-ecc2-4919-b765-1d06da9f121e",
   "metadata": {},
   "outputs": [
    {
     "data": {
      "text/plain": [
       "count    2569.000000\n",
       "mean        4.792916\n",
       "std         2.312252\n",
       "min         1.000000\n",
       "25%         3.000000\n",
       "50%         4.000000\n",
       "75%         6.000000\n",
       "max        14.000000\n",
       "Name: Cantidad de lenguajes requeridos, dtype: float64"
      ]
     },
     "execution_count": 50,
     "metadata": {},
     "output_type": "execute_result"
    }
   ],
   "source": [
    "jobs_data['Cantidad de lenguajes requeridos'].describe()"
   ]
  },
  {
   "cell_type": "markdown",
   "id": "9df022ca-4765-4f54-8d8e-21bf14d1720d",
   "metadata": {},
   "source": [
    "Es decir, en promedio se solicitan 4 lenguajes de programación para un empleo de ciencia de datos"
   ]
  },
  {
   "cell_type": "markdown",
   "id": "d4a0e3d3",
   "metadata": {},
   "source": [
    "Para identificar la cantidad de herramientas (lenguajes requeridos) que se requieren según la experiencia del analista, obtenemos la relación entre `Nivel de experiencia` y `Cantidad de Lenguajes requerido` lo que nos indica que un Científico de Datos Senior siempre será mejor pagado que los demás, en free level aparece de formaindistinta y sin etiquetar el nivel de experiencia del programador debido a que el empleador no lo menciona en la descripción."
   ]
  },
  {
   "cell_type": "code",
   "execution_count": 51,
   "id": "35f272f7-2851-4b21-83d3-3b4d82113cbf",
   "metadata": {},
   "outputs": [
    {
     "data": {
      "text/html": [
       "<div>\n",
       "<style scoped>\n",
       "    .dataframe tbody tr th:only-of-type {\n",
       "        vertical-align: middle;\n",
       "    }\n",
       "\n",
       "    .dataframe tbody tr th {\n",
       "        vertical-align: top;\n",
       "    }\n",
       "\n",
       "    .dataframe thead th {\n",
       "        text-align: right;\n",
       "    }\n",
       "</style>\n",
       "<table border=\"1\" class=\"dataframe\">\n",
       "  <thead>\n",
       "    <tr style=\"text-align: right;\">\n",
       "      <th></th>\n",
       "      <th>Cantidad de lenguajes requeridos</th>\n",
       "    </tr>\n",
       "    <tr>\n",
       "      <th>Nivel de experiencia</th>\n",
       "      <th></th>\n",
       "    </tr>\n",
       "  </thead>\n",
       "  <tbody>\n",
       "    <tr>\n",
       "      <th>Junior</th>\n",
       "      <td>4.440367</td>\n",
       "    </tr>\n",
       "    <tr>\n",
       "      <th>Not specified</th>\n",
       "      <td>4.577177</td>\n",
       "    </tr>\n",
       "    <tr>\n",
       "      <th>SemiSr</th>\n",
       "      <td>2.666667</td>\n",
       "    </tr>\n",
       "    <tr>\n",
       "      <th>Senior</th>\n",
       "      <td>5.433616</td>\n",
       "    </tr>\n",
       "    <tr>\n",
       "      <th>free level</th>\n",
       "      <td>4.916667</td>\n",
       "    </tr>\n",
       "  </tbody>\n",
       "</table>\n",
       "</div>"
      ],
      "text/plain": [
       "                      Cantidad de lenguajes requeridos\n",
       "Nivel de experiencia                                  \n",
       "Junior                                        4.440367\n",
       "Not specified                                 4.577177\n",
       "SemiSr                                        2.666667\n",
       "Senior                                        5.433616\n",
       "free level                                    4.916667"
      ]
     },
     "execution_count": 51,
     "metadata": {},
     "output_type": "execute_result"
    }
   ],
   "source": [
    "jobs_data.groupby('Nivel de experiencia').agg({'Cantidad de lenguajes requeridos' :\"mean\"})"
   ]
  },
  {
   "cell_type": "markdown",
   "id": "bb4b87ff",
   "metadata": {},
   "source": [
    "A continuación determinamos cual es la cantidad de salario con base en las habilidades de software que domina el analista con lo que se identifica que entre más lenguajes se dominen mayor es el promedio de ingreso"
   ]
  },
  {
   "cell_type": "code",
   "execution_count": 52,
   "id": "47e81902-9f49-4b72-ae17-61a701dd9d40",
   "metadata": {},
   "outputs": [
    {
     "data": {
      "text/html": [
       "<div>\n",
       "<style scoped>\n",
       "    .dataframe tbody tr th:only-of-type {\n",
       "        vertical-align: middle;\n",
       "    }\n",
       "\n",
       "    .dataframe tbody tr th {\n",
       "        vertical-align: top;\n",
       "    }\n",
       "\n",
       "    .dataframe thead th {\n",
       "        text-align: right;\n",
       "    }\n",
       "</style>\n",
       "<table border=\"1\" class=\"dataframe\">\n",
       "  <thead>\n",
       "    <tr style=\"text-align: right;\">\n",
       "      <th></th>\n",
       "      <th>Salario promedio</th>\n",
       "    </tr>\n",
       "    <tr>\n",
       "      <th>Cantidad de lenguajes requeridos</th>\n",
       "      <th></th>\n",
       "    </tr>\n",
       "  </thead>\n",
       "  <tbody>\n",
       "    <tr>\n",
       "      <th>1</th>\n",
       "      <td>12717.046154</td>\n",
       "    </tr>\n",
       "    <tr>\n",
       "      <th>2</th>\n",
       "      <td>26659.956184</td>\n",
       "    </tr>\n",
       "    <tr>\n",
       "      <th>3</th>\n",
       "      <td>34684.554295</td>\n",
       "    </tr>\n",
       "    <tr>\n",
       "      <th>4</th>\n",
       "      <td>37650.390941</td>\n",
       "    </tr>\n",
       "    <tr>\n",
       "      <th>5</th>\n",
       "      <td>57050.587887</td>\n",
       "    </tr>\n",
       "    <tr>\n",
       "      <th>6</th>\n",
       "      <td>51694.915286</td>\n",
       "    </tr>\n",
       "    <tr>\n",
       "      <th>7</th>\n",
       "      <td>58792.101786</td>\n",
       "    </tr>\n",
       "    <tr>\n",
       "      <th>8</th>\n",
       "      <td>66060.757414</td>\n",
       "    </tr>\n",
       "    <tr>\n",
       "      <th>9</th>\n",
       "      <td>77474.909091</td>\n",
       "    </tr>\n",
       "    <tr>\n",
       "      <th>10</th>\n",
       "      <td>72940.624444</td>\n",
       "    </tr>\n",
       "    <tr>\n",
       "      <th>11</th>\n",
       "      <td>34080.000000</td>\n",
       "    </tr>\n",
       "    <tr>\n",
       "      <th>12</th>\n",
       "      <td>56018.000000</td>\n",
       "    </tr>\n",
       "    <tr>\n",
       "      <th>13</th>\n",
       "      <td>54500.000000</td>\n",
       "    </tr>\n",
       "    <tr>\n",
       "      <th>14</th>\n",
       "      <td>NaN</td>\n",
       "    </tr>\n",
       "  </tbody>\n",
       "</table>\n",
       "</div>"
      ],
      "text/plain": [
       "                                  Salario promedio\n",
       "Cantidad de lenguajes requeridos                  \n",
       "1                                     12717.046154\n",
       "2                                     26659.956184\n",
       "3                                     34684.554295\n",
       "4                                     37650.390941\n",
       "5                                     57050.587887\n",
       "6                                     51694.915286\n",
       "7                                     58792.101786\n",
       "8                                     66060.757414\n",
       "9                                     77474.909091\n",
       "10                                    72940.624444\n",
       "11                                    34080.000000\n",
       "12                                    56018.000000\n",
       "13                                    54500.000000\n",
       "14                                             NaN"
      ]
     },
     "execution_count": 52,
     "metadata": {},
     "output_type": "execute_result"
    }
   ],
   "source": [
    "jobs_data.groupby('Cantidad de lenguajes requeridos').agg({'Salario promedio' :\"mean\"})"
   ]
  },
  {
   "cell_type": "markdown",
   "id": "35978919-e45b-40a2-95ea-dc6d19d0d032",
   "metadata": {},
   "source": [
    "¿Cuál es el área (industria) que paga mejor o que ofrece mejores ofertas?\n",
    "\n",
    "Lo estimamos obteniendo la relación entre las variables `Giro de la empres` y `Salario promedi` con lo que se observa que en los medios de comunicación, el sector turístico y de construcción y mantenimiento son los que mejor recompensa brindan a sus empleados"
   ]
  },
  {
   "cell_type": "code",
   "execution_count": 53,
   "id": "25c56628-e137-4531-be7f-5e335318d139",
   "metadata": {},
   "outputs": [
    {
     "data": {
      "text/html": [
       "<div>\n",
       "<style scoped>\n",
       "    .dataframe tbody tr th:only-of-type {\n",
       "        vertical-align: middle;\n",
       "    }\n",
       "\n",
       "    .dataframe tbody tr th {\n",
       "        vertical-align: top;\n",
       "    }\n",
       "\n",
       "    .dataframe thead th {\n",
       "        text-align: right;\n",
       "    }\n",
       "</style>\n",
       "<table border=\"1\" class=\"dataframe\">\n",
       "  <thead>\n",
       "    <tr style=\"text-align: right;\">\n",
       "      <th></th>\n",
       "      <th>Salario promedio</th>\n",
       "    </tr>\n",
       "    <tr>\n",
       "      <th>Giro de la empresa</th>\n",
       "      <th></th>\n",
       "    </tr>\n",
       "  </thead>\n",
       "  <tbody>\n",
       "    <tr>\n",
       "      <th>Audiovisual y medios de comunicación</th>\n",
       "      <td>86250.000000</td>\n",
       "    </tr>\n",
       "    <tr>\n",
       "      <th>Hoteles y complejos turísticos</th>\n",
       "      <td>81088.875000</td>\n",
       "    </tr>\n",
       "    <tr>\n",
       "      <th>Servicios de construcción, reparación y mantenimiento</th>\n",
       "      <td>75713.560000</td>\n",
       "    </tr>\n",
       "    <tr>\n",
       "      <th>Aeroespacial y defensa</th>\n",
       "      <td>70537.500000</td>\n",
       "    </tr>\n",
       "    <tr>\n",
       "      <th>ONG y Organizaciones sin fines de lucro</th>\n",
       "      <td>60157.500000</td>\n",
       "    </tr>\n",
       "    <tr>\n",
       "      <th>Ventas al mayoreo y al menudeo</th>\n",
       "      <td>41234.375000</td>\n",
       "    </tr>\n",
       "    <tr>\n",
       "      <th>Finanzas</th>\n",
       "      <td>39054.891204</td>\n",
       "    </tr>\n",
       "    <tr>\n",
       "      <th>Gobierno y administración pública</th>\n",
       "      <td>36383.334670</td>\n",
       "    </tr>\n",
       "    <tr>\n",
       "      <th>Tecnologías de la información</th>\n",
       "      <td>33115.148130</td>\n",
       "    </tr>\n",
       "    <tr>\n",
       "      <th>Seguros</th>\n",
       "      <td>29159.249250</td>\n",
       "    </tr>\n",
       "    <tr>\n",
       "      <th>Educación</th>\n",
       "      <td>27337.987847</td>\n",
       "    </tr>\n",
       "    <tr>\n",
       "      <th>Transporte y logística</th>\n",
       "      <td>23299.287500</td>\n",
       "    </tr>\n",
       "    <tr>\n",
       "      <th>Manufactura</th>\n",
       "      <td>18169.052083</td>\n",
       "    </tr>\n",
       "    <tr>\n",
       "      <th>Salud</th>\n",
       "      <td>9967.041346</td>\n",
       "    </tr>\n",
       "    <tr>\n",
       "      <th>Administración y consultoría</th>\n",
       "      <td>6506.592593</td>\n",
       "    </tr>\n",
       "    <tr>\n",
       "      <th>not specified</th>\n",
       "      <td>5038.061877</td>\n",
       "    </tr>\n",
       "    <tr>\n",
       "      <th>Recursos humanos</th>\n",
       "      <td>4854.216094</td>\n",
       "    </tr>\n",
       "    <tr>\n",
       "      <th>Farmacéutica y biotecnología</th>\n",
       "      <td>868.138889</td>\n",
       "    </tr>\n",
       "    <tr>\n",
       "      <th>Telecomunicaciones</th>\n",
       "      <td>780.000000</td>\n",
       "    </tr>\n",
       "    <tr>\n",
       "      <th>Restaurantes y servicios de comidas</th>\n",
       "      <td>550.000000</td>\n",
       "    </tr>\n",
       "    <tr>\n",
       "      <th>Energía, minería e infraestructura pública</th>\n",
       "      <td>456.094687</td>\n",
       "    </tr>\n",
       "  </tbody>\n",
       "</table>\n",
       "</div>"
      ],
      "text/plain": [
       "                                                    Salario promedio\n",
       "Giro de la empresa                                                  \n",
       "Audiovisual y medios de comunicación                    86250.000000\n",
       "Hoteles y complejos turísticos                          81088.875000\n",
       "Servicios de construcción, reparación y manteni...      75713.560000\n",
       "Aeroespacial y defensa                                  70537.500000\n",
       "ONG y Organizaciones sin fines de lucro                 60157.500000\n",
       "Ventas al mayoreo y al menudeo                          41234.375000\n",
       "Finanzas                                                39054.891204\n",
       "Gobierno y administración pública                       36383.334670\n",
       "Tecnologías de la información                           33115.148130\n",
       "Seguros                                                 29159.249250\n",
       "Educación                                               27337.987847\n",
       "Transporte y logística                                  23299.287500\n",
       "Manufactura                                             18169.052083\n",
       "Salud                                                    9967.041346\n",
       "Administración y consultoría                             6506.592593\n",
       "not specified                                            5038.061877\n",
       "Recursos humanos                                         4854.216094\n",
       "Farmacéutica y biotecnología                              868.138889\n",
       "Telecomunicaciones                                        780.000000\n",
       "Restaurantes y servicios de comidas                       550.000000\n",
       "Energía, minería e infraestructura pública                456.094687"
      ]
     },
     "execution_count": 53,
     "metadata": {},
     "output_type": "execute_result"
    }
   ],
   "source": [
    "jobs_data_clean.groupby('Giro de la empresa').agg({'Salario promedio' :\"mean\"}).sort_values(\"Salario promedio\", ascending = False)"
   ]
  },
  {
   "cell_type": "markdown",
   "id": "901e0cae-9e54-4fe4-b3f6-a9f850496217",
   "metadata": {},
   "source": [
    "¿Cuáles son los mejores puestos laborales de acuerdo al salario?\n",
    "\n",
    "Lo determinamos obteniendo la relación entre El tipo de puesto a ocupar y el salario promedio, podemos observar que los puestos mejor remunerados son los de Ingeniero de Software y de Machine Learning."
   ]
  },
  {
   "cell_type": "code",
   "execution_count": 54,
   "id": "f686ee6a-ee33-4377-9b17-37c43e94981d",
   "metadata": {},
   "outputs": [
    {
     "data": {
      "text/html": [
       "<div>\n",
       "<style scoped>\n",
       "    .dataframe tbody tr th:only-of-type {\n",
       "        vertical-align: middle;\n",
       "    }\n",
       "\n",
       "    .dataframe tbody tr th {\n",
       "        vertical-align: top;\n",
       "    }\n",
       "\n",
       "    .dataframe thead th {\n",
       "        text-align: right;\n",
       "    }\n",
       "</style>\n",
       "<table border=\"1\" class=\"dataframe\">\n",
       "  <thead>\n",
       "    <tr style=\"text-align: right;\">\n",
       "      <th></th>\n",
       "      <th>Salario promedio</th>\n",
       "    </tr>\n",
       "    <tr>\n",
       "      <th>Puesto laboral</th>\n",
       "      <th></th>\n",
       "    </tr>\n",
       "  </thead>\n",
       "  <tbody>\n",
       "    <tr>\n",
       "      <th>Software Engineer, Machine Learning - Personalization</th>\n",
       "      <td>212000.00</td>\n",
       "    </tr>\n",
       "    <tr>\n",
       "      <th>Software Engineer, .NET, Intelligence Features</th>\n",
       "      <td>175000.00</td>\n",
       "    </tr>\n",
       "    <tr>\n",
       "      <th>University Grad Machine Learning Engineer 2023 (USA)</th>\n",
       "      <td>154500.00</td>\n",
       "    </tr>\n",
       "    <tr>\n",
       "      <th>Financial Planning &amp; Analysis Manager</th>\n",
       "      <td>150904.62</td>\n",
       "    </tr>\n",
       "    <tr>\n",
       "      <th>Senior Software Development Engineer</th>\n",
       "      <td>148312.50</td>\n",
       "    </tr>\n",
       "    <tr>\n",
       "      <th>Software Engineer III, Machine Learning, Fitbit</th>\n",
       "      <td>147500.00</td>\n",
       "    </tr>\n",
       "    <tr>\n",
       "      <th>Junior/Mid-level Software Engineer - Data Engineering</th>\n",
       "      <td>143700.00</td>\n",
       "    </tr>\n",
       "    <tr>\n",
       "      <th>Analytics Engineer, DataSF (1042)</th>\n",
       "      <td>142155.00</td>\n",
       "    </tr>\n",
       "    <tr>\n",
       "      <th>Data Analyst II</th>\n",
       "      <td>124000.00</td>\n",
       "    </tr>\n",
       "    <tr>\n",
       "      <th>Senior Full Stack Engineer (Toronto or Vancouver Hub - Remote)</th>\n",
       "      <td>114375.00</td>\n",
       "    </tr>\n",
       "  </tbody>\n",
       "</table>\n",
       "</div>"
      ],
      "text/plain": [
       "                                                    Salario promedio\n",
       "Puesto laboral                                                      \n",
       "Software Engineer, Machine Learning - Personali...         212000.00\n",
       "Software Engineer, .NET, Intelligence Features             175000.00\n",
       "University Grad Machine Learning Engineer 2023 ...         154500.00\n",
       "Financial Planning & Analysis Manager                      150904.62\n",
       "Senior Software Development Engineer                       148312.50\n",
       "Software Engineer III, Machine Learning, Fitbit            147500.00\n",
       "Junior/Mid-level Software Engineer - Data Engin...         143700.00\n",
       "Analytics Engineer, DataSF (1042)                          142155.00\n",
       "Data Analyst II                                            124000.00\n",
       "Senior Full Stack Engineer (Toronto or Vancouve...         114375.00"
      ]
     },
     "execution_count": 54,
     "metadata": {},
     "output_type": "execute_result"
    }
   ],
   "source": [
    "jobs_data_clean.groupby('Puesto laboral').agg({'Salario promedio' :\"mean\"}).sort_values(by = \"Salario promedio\", ascending = False).head(10)"
   ]
  },
  {
   "cell_type": "markdown",
   "id": "7c3e5a9d-0f71-495f-ace0-7d838964753c",
   "metadata": {},
   "source": [
    "¿Qué sectores tienen mayor interés en un científico de datos?\n",
    "\n",
    "Al agrupar los empleos según el giro de la empresa logramos estimar que en las empresas que tienen un giro relaciona a las tecnologías de la información y finanzas tienen mas empleabilidad para un científico de datos"
   ]
  },
  {
   "cell_type": "code",
   "execution_count": 55,
   "id": "004dbc42-8e61-4510-a05e-11bd449c65ee",
   "metadata": {},
   "outputs": [
    {
     "data": {
      "text/html": [
       "<div>\n",
       "<style scoped>\n",
       "    .dataframe tbody tr th:only-of-type {\n",
       "        vertical-align: middle;\n",
       "    }\n",
       "\n",
       "    .dataframe tbody tr th {\n",
       "        vertical-align: top;\n",
       "    }\n",
       "\n",
       "    .dataframe thead th {\n",
       "        text-align: right;\n",
       "    }\n",
       "</style>\n",
       "<table border=\"1\" class=\"dataframe\">\n",
       "  <thead>\n",
       "    <tr style=\"text-align: right;\">\n",
       "      <th></th>\n",
       "      <th>Giro de la empresa</th>\n",
       "      <th>Conteo de trabajos</th>\n",
       "    </tr>\n",
       "  </thead>\n",
       "  <tbody>\n",
       "    <tr>\n",
       "      <th>25</th>\n",
       "      <td>not specified</td>\n",
       "      <td>786</td>\n",
       "    </tr>\n",
       "    <tr>\n",
       "      <th>21</th>\n",
       "      <td>Tecnologías de la información</td>\n",
       "      <td>632</td>\n",
       "    </tr>\n",
       "    <tr>\n",
       "      <th>9</th>\n",
       "      <td>Finanzas</td>\n",
       "      <td>216</td>\n",
       "    </tr>\n",
       "    <tr>\n",
       "      <th>13</th>\n",
       "      <td>Manufactura</td>\n",
       "      <td>187</td>\n",
       "    </tr>\n",
       "    <tr>\n",
       "      <th>0</th>\n",
       "      <td>Administración y consultoría</td>\n",
       "      <td>111</td>\n",
       "    </tr>\n",
       "    <tr>\n",
       "      <th>7</th>\n",
       "      <td>Energía, minería e infraestructura pública</td>\n",
       "      <td>75</td>\n",
       "    </tr>\n",
       "    <tr>\n",
       "      <th>24</th>\n",
       "      <td>Ventas al mayoreo y al menudeo</td>\n",
       "      <td>68</td>\n",
       "    </tr>\n",
       "    <tr>\n",
       "      <th>4</th>\n",
       "      <td>Audiovisual y medios de comunicación</td>\n",
       "      <td>67</td>\n",
       "    </tr>\n",
       "    <tr>\n",
       "      <th>8</th>\n",
       "      <td>Farmacéutica y biotecnología</td>\n",
       "      <td>60</td>\n",
       "    </tr>\n",
       "    <tr>\n",
       "      <th>18</th>\n",
       "      <td>Seguros</td>\n",
       "      <td>55</td>\n",
       "    </tr>\n",
       "    <tr>\n",
       "      <th>17</th>\n",
       "      <td>Salud</td>\n",
       "      <td>49</td>\n",
       "    </tr>\n",
       "    <tr>\n",
       "      <th>10</th>\n",
       "      <td>Gobierno y administración pública</td>\n",
       "      <td>48</td>\n",
       "    </tr>\n",
       "    <tr>\n",
       "      <th>22</th>\n",
       "      <td>Telecomunicaciones</td>\n",
       "      <td>44</td>\n",
       "    </tr>\n",
       "    <tr>\n",
       "      <th>6</th>\n",
       "      <td>Educación</td>\n",
       "      <td>28</td>\n",
       "    </tr>\n",
       "    <tr>\n",
       "      <th>15</th>\n",
       "      <td>Recursos humanos</td>\n",
       "      <td>27</td>\n",
       "    </tr>\n",
       "    <tr>\n",
       "      <th>19</th>\n",
       "      <td>Servicios de construcción, reparación y manten...</td>\n",
       "      <td>26</td>\n",
       "    </tr>\n",
       "    <tr>\n",
       "      <th>23</th>\n",
       "      <td>Transporte y logística</td>\n",
       "      <td>18</td>\n",
       "    </tr>\n",
       "    <tr>\n",
       "      <th>1</th>\n",
       "      <td>Aeroespacial y defensa</td>\n",
       "      <td>17</td>\n",
       "    </tr>\n",
       "    <tr>\n",
       "      <th>14</th>\n",
       "      <td>ONG y Organizaciones sin fines de lucro</td>\n",
       "      <td>15</td>\n",
       "    </tr>\n",
       "    <tr>\n",
       "      <th>11</th>\n",
       "      <td>Hoteles y complejos turísticos</td>\n",
       "      <td>13</td>\n",
       "    </tr>\n",
       "    <tr>\n",
       "      <th>5</th>\n",
       "      <td>Bienes raíces</td>\n",
       "      <td>9</td>\n",
       "    </tr>\n",
       "    <tr>\n",
       "      <th>3</th>\n",
       "      <td>Artes y entretenimiento</td>\n",
       "      <td>5</td>\n",
       "    </tr>\n",
       "    <tr>\n",
       "      <th>2</th>\n",
       "      <td>Agrario</td>\n",
       "      <td>5</td>\n",
       "    </tr>\n",
       "    <tr>\n",
       "      <th>12</th>\n",
       "      <td>Legal</td>\n",
       "      <td>3</td>\n",
       "    </tr>\n",
       "    <tr>\n",
       "      <th>16</th>\n",
       "      <td>Restaurantes y servicios de comidas</td>\n",
       "      <td>3</td>\n",
       "    </tr>\n",
       "    <tr>\n",
       "      <th>20</th>\n",
       "      <td>Servicios personales al consumidor</td>\n",
       "      <td>2</td>\n",
       "    </tr>\n",
       "  </tbody>\n",
       "</table>\n",
       "</div>"
      ],
      "text/plain": [
       "                                   Giro de la empresa  Conteo de trabajos\n",
       "25                                      not specified                 786\n",
       "21                      Tecnologías de la información                 632\n",
       "9                                            Finanzas                 216\n",
       "13                                        Manufactura                 187\n",
       "0                        Administración y consultoría                 111\n",
       "7          Energía, minería e infraestructura pública                  75\n",
       "24                     Ventas al mayoreo y al menudeo                  68\n",
       "4                Audiovisual y medios de comunicación                  67\n",
       "8                        Farmacéutica y biotecnología                  60\n",
       "18                                            Seguros                  55\n",
       "17                                              Salud                  49\n",
       "10                  Gobierno y administración pública                  48\n",
       "22                                 Telecomunicaciones                  44\n",
       "6                                           Educación                  28\n",
       "15                                   Recursos humanos                  27\n",
       "19  Servicios de construcción, reparación y manten...                  26\n",
       "23                             Transporte y logística                  18\n",
       "1                              Aeroespacial y defensa                  17\n",
       "14            ONG y Organizaciones sin fines de lucro                  15\n",
       "11                     Hoteles y complejos turísticos                  13\n",
       "5                                       Bienes raíces                   9\n",
       "3                             Artes y entretenimiento                   5\n",
       "2                                             Agrario                   5\n",
       "12                                              Legal                   3\n",
       "16                Restaurantes y servicios de comidas                   3\n",
       "20                 Servicios personales al consumidor                   2"
      ]
     },
     "execution_count": 55,
     "metadata": {},
     "output_type": "execute_result"
    }
   ],
   "source": [
    "jobs_data.groupby('Giro de la empresa').size().reset_index(name='Conteo de trabajos').sort_values(\"Conteo de trabajos\", ascending = False)"
   ]
  },
  {
   "cell_type": "markdown",
   "id": "b0e895c3-cf81-412b-a457-5cc31f7d85fd",
   "metadata": {},
   "source": [
    "¿Qué país, en promedio, ofrece mejores ofertas salariales?\n",
    "\n",
    "Obtenemos la relación entre los paises y su promedio salarial con lo que identificamos que Estados Unidos  tiene la mejor percepcion salarial para un Científico de Datos seguido de Canada y al final se encuentra México."
   ]
  },
  {
   "cell_type": "code",
   "execution_count": 56,
   "id": "1a5062a5-19c8-48be-b571-d67d2518c9fd",
   "metadata": {},
   "outputs": [
    {
     "data": {
      "text/html": [
       "<div>\n",
       "<style scoped>\n",
       "    .dataframe tbody tr th:only-of-type {\n",
       "        vertical-align: middle;\n",
       "    }\n",
       "\n",
       "    .dataframe tbody tr th {\n",
       "        vertical-align: top;\n",
       "    }\n",
       "\n",
       "    .dataframe thead th {\n",
       "        text-align: right;\n",
       "    }\n",
       "</style>\n",
       "<table border=\"1\" class=\"dataframe\">\n",
       "  <thead>\n",
       "    <tr style=\"text-align: right;\">\n",
       "      <th></th>\n",
       "      <th>Salario promedio</th>\n",
       "    </tr>\n",
       "    <tr>\n",
       "      <th>País</th>\n",
       "      <th></th>\n",
       "    </tr>\n",
       "  </thead>\n",
       "  <tbody>\n",
       "    <tr>\n",
       "      <th>CAN</th>\n",
       "      <td>26550.433724</td>\n",
       "    </tr>\n",
       "    <tr>\n",
       "      <th>EUA</th>\n",
       "      <td>34566.335768</td>\n",
       "    </tr>\n",
       "    <tr>\n",
       "      <th>MX</th>\n",
       "      <td>1325.997183</td>\n",
       "    </tr>\n",
       "  </tbody>\n",
       "</table>\n",
       "</div>"
      ],
      "text/plain": [
       "      Salario promedio\n",
       "País                  \n",
       "CAN       26550.433724\n",
       "EUA       34566.335768\n",
       "MX         1325.997183"
      ]
     },
     "execution_count": 56,
     "metadata": {},
     "output_type": "execute_result"
    }
   ],
   "source": [
    "jobs_data_clean.groupby('País').agg({'Salario promedio' :\"mean\"})"
   ]
  },
  {
   "cell_type": "markdown",
   "id": "be4895a5",
   "metadata": {},
   "source": [
    "Conclusiones\n",
    "\n",
    "+ El salario que puede llegar a percibir un científico de datos depende en gran medida del rol que ocupen en la empresa seguido del país de la oferta, de las herramientas que domine el analista como son los lenguajes de programación también influyen en menor medida otros factores como los estudios con los que se cuente y giro de la empresa donde se ingrese a laborar.\n",
    "    \n",
    "+ Los niveles de habilidades y experiencia lo estandarizan los empleadores bajo el nombre de Senior, Junior, semiSenior, Trainee para poder estimar los  perfiles de los analistas y con base en esto determinar salarios y también si pueden ser contratados.Los salarios promedio obtenidos son para Junior de $13,504.6 USD mensuales, para Senior de $21,931 USD mensuales y para puestos sin categorizar de $3,285.4 USD y $11,633.75. \n",
    "    \n",
    "+ Las áreas donde hay mejor percepción salarial para los científicos de datos son la industria de los medios de comunicación y el turismo, aunque en cuanto a la cantidad de ofertas laborales se refiere, son los Ingenieros de Software los que tienen más probabilidades de contratarse.\n",
    "        \n",
    "+ La ciencia de datos debido a la cantidad de conocimientos en programación, matemáticas y estadistica que maneja tambien se ha agrupado en otros nombres o terminos por los distintos sectores que la requieren para su empleabilidad y ejercicio como Ingeniero de Inteligencia artificial, Ingeniero de Machine Learning, Analista de Datos, etc pero todo esto se resume a un rol de analisis de datos implementando algoritmos de estadística, minería de datos, Machine Learning entre otros. \n",
    "    \n",
    "+ Se pudo determinar que el país con mejor expectativa salarial tiene para un Científico de Datos es Estados Unidos, por lo que es la mejor opción para buscar desarrollarse en esta área\n",
    "    \n",
    "    \n",
    "+ Otra herramienta importante a mencionar es la de conocimiento o experiencia en algoritmos de Machine Learning o de Inteligencia Artificial para determinar el rango salarial que puede aspirar un Científico de Datos la cual es esencial en este campo de conocimiento.\n",
    "    \n",
    "+ Se eligió una serie de pregunatas de Investigación a futuro las cuales con los datos obtenidos en el presente analisis no nos brindan suficientes elementos para justificar una respuesta puesto que solo se hizo limpieza y depuración de los datos, sin embargo con la aplicacion de un algoritmo para un analisis posterior es posible obtner mayores resultados y conclusiones por lo que agregan al final del presente  documento."
   ]
  },
  {
   "cell_type": "markdown",
   "id": "4cbd8923-f29d-4eab-9c91-c36b089fbeb9",
   "metadata": {},
   "source": [
    "**Investigación a futuro**:\n",
    "\n",
    "- ¿Cuáles son las expectativas salariales por nivel de experiencia?\n",
    "- ¿Cuáles son las expectativas salariales dados los diferentes antecedentes académicos?\n",
    "- ¿Qué habilidades blandas son más valoradas para la obtención de mejores puestos laborales y un perfil más atractivo?\n",
    "- ¿Cuáles son las prestaciones con las que cuenta?\n",
    "- ¿Cuáles son los mejores puestos laborales considerando más factores que solo el salario?\n",
    "- ¿Qué tipo de trabajo podemos esperar (Home office, medio tiempo, total)?\n",
    "- ¿Existe alguna edad límite para iniciar en el campo de ciencia de datos?\n",
    "- ¿Cuál es la probabilidad de que alguien con una carrera distinta pueda migrar a científico de datos?\n",
    "\n",
    "**Referencias**: \n",
    "\n",
    "10 Awesome Jobs in Data Science Right Now (2020) Recuperado de: \n",
    "https://www.businessstudent.com/careers/hot-career-opportunities-in-data-science-right-now/\n",
    "\n",
    "Gouviera, R. (2021). ¿Cuánto gana un Data Scientist en paíse de habla hispana? Recuperado de :  https://gonzalezgouveia.com/cuanto-gana-un-data-scientist-en-paises-de-habla-hispana/?utm_source=rss&utm_medium=rss&utm_campaign=cuanto-gana-un-data-scientist-en-paises-de-habla-hispana\n",
    "\n",
    "Ramírez, L (2018).  ¿Qué necesitas Saber ANTES de buscar trabajo como Data Scientis en LATAM?. Recuperado de https://medium.com/datos-y-ciencia/qu%C3%A9-necesitas-saber-antes-de-buscar-trabajo-como-data-scientist-en-latam-8d3321196069\n",
    "\n",
    "Ramírez, P. (2021). Analista de datos: el empleo del futuro por el que las empresas pagan 77.000 €, Recuperado de \n",
    "https://www.lainformacion.com/management/empleo-analista-datos-sueldo-alto-trabajo-demandado/2835431/\n",
    "\n",
    "\n",
    "Shaik, S. (2020). Know what employers are expecting for a data scientist role in 2020. Recuperado de  https://towardsdatascience.com/know-what-employers-are-expecting-for-a-data-scientist-role-in-2020-65ad68553cc4\n",
    "\n",
    "\n",
    "Solís, L. (2021) Los países más avanzados en ciencia de datos en latinoamérica. Recuperado de:  https://cursos.blen.io/los-paises-mas-avanzados-en-ciencia-de-datos-de-latinoamerica/\n",
    "\n",
    "Nagpurkar, M (2020). Most lucrative Country to work as a data professional. Recuperado de: https://towardsdatascience.com/most-lucrative-country-to-work-in-as-a-data-professional-b2077f696ccb7\n",
    "Shaik,  \n",
    "\n",
    "\n",
    "Tokio School \n",
    "https://www.tokioschool.com/noticias/analista-datos-sueldo/"
   ]
  }
 ],
 "metadata": {
  "kernelspec": {
   "display_name": "Python 3 (ipykernel)",
   "language": "python",
   "name": "python3"
  },
  "language_info": {
   "codemirror_mode": {
    "name": "ipython",
    "version": 3
   },
   "file_extension": ".py",
   "mimetype": "text/x-python",
   "name": "python",
   "nbconvert_exporter": "python",
   "pygments_lexer": "ipython3",
   "version": "3.10.6"
  }
 },
 "nbformat": 4,
 "nbformat_minor": 5
}
